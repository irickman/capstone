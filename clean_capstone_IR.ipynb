{
 "cells": [
  {
   "cell_type": "code",
   "execution_count": 1,
   "metadata": {},
   "outputs": [
    {
     "name": "stderr",
     "output_type": "stream",
     "text": [
      "/Users/irarickman/anaconda2/lib/python2.7/site-packages/statsmodels/compat/pandas.py:56: FutureWarning: The pandas.core.datetools module is deprecated and will be removed in a future version. Please use the pandas.tseries module instead.\n",
      "  from pandas.core import datetools\n"
     ]
    }
   ],
   "source": [
    "import pandas as pd\n",
    "import numpy as np\n",
    "import matplotlib.pyplot as plt\n",
    "import seaborn as sns\n",
    "import requests\n",
    "import glob\n",
    "import statsmodels.api as sm  \n",
    "from statsmodels.tsa.stattools import acf  \n",
    "from statsmodels.tsa.stattools import pacf\n",
    "from statsmodels.tsa.seasonal import seasonal_decompose\n",
    "from statsmodels.tsa.stattools import adfuller\n",
    "from geopy.distance import great_circle\n",
    "import time\n",
    "\n",
    "%matplotlib inline"
   ]
  },
  {
   "cell_type": "markdown",
   "metadata": {},
   "source": [
    "## Executive Summary\n",
    "Capital Bikeshare is a public bikesharing service founded in 2010, servicing the Washington DC metro area. The Bikeshare system contains about 4500 bikes and over 450 stations. Despite only 4500 bikes in circulation, there are a little over 8000 available spots at each station. Clearly, this can create challenges for Capital Bikeshare. Even at perfect distribution, every station would be slightly over 50% full. Even under normal circumstances, ensuring the right mixture of bikes at each station would be difficult, but given the complexities of population density, commuting, weather, and geography, bikeshare stations can easily be empty, leaving prospective riders without a bike or full, leaving riders without a dock. For my capstone, I have decided to study the effects that empty stations have on neighboring stations, to help determine which stations should be prioritized to refill bikes. \n",
    "To study this problem, I’ve gathered data from Capital Bikeshare on every trip taken between September 2010 and March 2017. The data contains the starting location, ending location, start time, end time, and the bike id. Using this data in conjunction with data on the capacity of each station, I was able to engineer a data set of the number of bikes taken in, taken out, moved in, and moved out for each hour between September 2010 and March 2017. To combat the unbalanced dispersion of bikes, Capital Bikeshare uses a practice called ‘rebalancing’ to move bikes from over-crowded stations to under-crowded stations. Using the dataset on the status of each bikeshare station, I created a dataset for each bikeshare station, organized by hour, containing the status of the station (empty, some bikes, full) and the average rate of bikes moving in and out for the 4 nearest stations.\n",
    "\n",
    "### Approach\n",
    "For my approach I plan to construct two separate analyses. The first analysis will be a Bayesian inference test of the difference in the average rate of bike movement for neighboring stations for each station, based on whether a station is empty or has bikes. Using this test, I hope to identify which stations have neighboring stations which experience higher rates of bike rental after running out of bikes. The result of this analysis will help identify bikeshare stations to prioritize for rebalancing. The second analysis will be a Markov Chain model of the flow of bikes between stations to model which stations are likeliest to become empty and thus need to be rebalanced. \n",
    "\n",
    "### Sorry my notebook is a mess, it will be clean by Thursday though!"
   ]
  },
  {
   "cell_type": "markdown",
   "metadata": {},
   "source": [
    "## This section below is for getting station data and other system data"
   ]
  },
  {
   "cell_type": "code",
   "execution_count": 2,
   "metadata": {
    "collapsed": true
   },
   "outputs": [],
   "source": [
    "url = 'https://gbfs.capitalbikeshare.com/gbfs/en/station_information.json'\n",
    "r = requests.get(url)\n",
    "results = r.json()['data']['stations']\n",
    "stations_list=pd.DataFrame.from_dict(results, orient='columns')\n",
    "## only regions 41 and 42 are in DC and Virginia, so I'll only use those\n",
    "dc_va=stations_list[(stations_list.region_id==41)|(stations_list.region_id==42)].copy(deep=True)\n",
    "dc_stations=set(dc_va.station_id.unique())"
   ]
  },
  {
   "cell_type": "code",
   "execution_count": 3,
   "metadata": {},
   "outputs": [
    {
     "name": "stdout",
     "output_type": "stream",
     "text": [
      "1.33428313335 minutes to run\n"
     ]
    }
   ],
   "source": [
    "stations_list['coords']=[(x,y) for x, y in zip(stations_list.lat, stations_list.lon)]\n",
    "stations_list.index=stations_list['short_name']\n",
    "start_time = time.time()\n",
    "start = stations_list.index\n",
    "for s in start:\n",
    "    for e in start:\n",
    "        stations_list.loc[e,'dist_' +str(s)]=float(great_circle(stations_list.loc[s,'coords'],stations_list.loc[e,'coords']).miles)\n",
    "end_time = time.time()\n",
    "print str((end_time - start_time)/60.) + ' minutes to run'"
   ]
  },
  {
   "cell_type": "code",
   "execution_count": 4,
   "metadata": {
    "collapsed": true
   },
   "outputs": [],
   "source": [
    "#making a dictionary of the capacities \n",
    "capacities={stat:float(cap) for stat, cap in zip(stations_list.index,stations_list.capacity)}\n",
    "stations_list.columns.get_loc('coords')\n",
    "cols=stations_list.columns[12:]\n",
    "test = stations_list.iloc[:5,:]"
   ]
  },
  {
   "cell_type": "code",
   "execution_count": 9,
   "metadata": {
    "collapsed": true
   },
   "outputs": [],
   "source": [
    "start_time =time.time()\n",
    "for i in stations_list.index:\n",
    "    count=0\n",
    "    count_half = 0\n",
    "    count_35=0\n",
    "    for val in cols:\n",
    "        count+=int(stations_list.get_value(i,val)<=.25)\n",
    "        count_35+=int(stations_list.get_value(i,val)<=.35)\n",
    "        count_half+=int(stations_list.get_value(i,val)<=.5)\n",
    "    stations_list.loc[i,'count_.25']=count\n",
    "    stations_list.loc[i,'count_.35']=count_35\n",
    "    stations_list.loc[i,'count_.5']=count_half"
   ]
  },
  {
   "cell_type": "code",
   "execution_count": 10,
   "metadata": {},
   "outputs": [
    {
     "name": "stdout",
     "output_type": "stream",
     "text": [
      "2.65052631579 2.0\n",
      "4.48210526316 4.0\n",
      "7.87157894737 6.0\n"
     ]
    }
   ],
   "source": [
    "## the average number of stations within a quarter mile is 2.6, with a median of 2\n",
    "## the average number of stations within a .35 mile is 4.5, with a median of 4\n",
    "## the average number of stations within a half mile is 7.8 with a median of 6\n",
    "## i'm going to use 4\n",
    "print stations_list['count_.25'].mean(), stations_list['count_.25'].median()\n",
    "print stations_list['count_.35'].mean(), stations_list['count_.35'].median()\n",
    "print stations_list['count_.5'].mean(), stations_list['count_.5'].median()"
   ]
  },
  {
   "cell_type": "code",
   "execution_count": 5,
   "metadata": {},
   "outputs": [
    {
     "name": "stdout",
     "output_type": "stream",
     "text": [
      "0.626090049744 seconds\n"
     ]
    }
   ],
   "source": [
    "## making a dictionary of the 4 closest stations for each station\n",
    "start_time =time.time()\n",
    "closest={}\n",
    "for x in stations_list.index:\n",
    "    find = pd.Series(stations_list.loc[x,cols])\n",
    "    closest[x] = [y[-5:] for y in find.sort_values()[1:5].index]\n",
    "\n",
    "end_time =time.time()\n",
    "print str(end_time -start_time) + ' seconds'"
   ]
  },
  {
   "cell_type": "markdown",
   "metadata": {},
   "source": [
    "## This section generates a lot of my data"
   ]
  },
  {
   "cell_type": "code",
   "execution_count": 12,
   "metadata": {
    "collapsed": true,
    "scrolled": true
   },
   "outputs": [],
   "source": [
    "#getting all my files\n",
    "files = glob.glob('../Data/*.csv')"
   ]
  },
  {
   "cell_type": "code",
   "execution_count": 13,
   "metadata": {
    "collapsed": true
   },
   "outputs": [],
   "source": [
    "# making my make_dates function\n",
    "def make_dates(df):\n",
    "    cols = set(df.columns)\n",
    "    if 'Start date' in cols:\n",
    "        st= 'Start date'\n",
    "        end = 'End date'\n",
    "    elif 'Start time' in cols:\n",
    "        st= 'Start time'\n",
    "        end = 'End date'\n",
    "    df['start']=pd.to_datetime(df[st],infer_datetime_format=True)\n",
    "    df['end']=pd.to_datetime(df[end],infer_datetime_format=True)\n",
    "    df['start_year']=df.start.dt.year\n",
    "    df['end_year']=df.end.dt.year\n",
    "    df['start_month']=df.start.dt.month\n",
    "    df['end_month']=df.end.dt.month\n",
    "    df['start_day']=df.start.dt.day\n",
    "    df['end_day']=df.end.dt.day\n",
    "    df['start_hour'] = df.start.dt.hour\n",
    "    df['start_minute'] = df.start.dt.minute\n",
    "    df['end_hour'] = df.end.dt.hour\n",
    "    df['end_minute']=df.end.dt.minute\n",
    "    df['start_weekday'] = df.start.dt.weekday\n",
    "    df['end_weekday'] = df.end.dt.weekday\n",
    "    if 'Duration' in cols:\n",
    "        dur = 'Duration'\n",
    "    elif 'Duration (ms)' in cols:\n",
    "        dur = 'Duration (ms)'\n",
    "    elif 'Total duration (ms)' in cols:\n",
    "        dur = 'Total duration (ms)'\n",
    "    try:\n",
    "        df['trip_time']=(df[dur].astype(float)/60000).astype(float)\n",
    "    except ValueError:\n",
    "        df['trip_time']=0\n",
    "    df['start']=df.start.map(lambda x: x.strftime('%Y-%m-%d %H'))"
   ]
  },
  {
   "cell_type": "code",
   "execution_count": 14,
   "metadata": {
    "collapsed": true
   },
   "outputs": [],
   "source": [
    "# renaming columns\n",
    "def rename(df):\n",
    "    cols = set(df.columns)\n",
    "    df.dropna(axis=0, inplace=True)\n",
    "    if 'Start station number' not in cols:\n",
    "        if 'Start station' in cols:\n",
    "            df['Start station number']= (df['Start station'].str.replace('(Dupont Circle south)','0').astype(str).str.extract(r\"\\((.*?)\\)\")).astype(float)\n",
    "            start_stat = 'Start station number'\n",
    "        elif 'Start Station' in cols:\n",
    "            df['Start station number']= (df['Start Station'].str.replace('(Dupont Circle south)','0').astype(str).str.extract(r\"\\((.*?)\\)\")).astype(float)\n",
    "            start_stat = 'Start station number'\n",
    "    if 'End station number' not in cols:\n",
    "        if 'End station' in cols:\n",
    "            df['End station number']= (df['End station'].str.replace('(Dupont Circle south)','0').astype(str).str.extract(r\"\\((.*?)\\)\")).astype(float)\n",
    "            end_stat = 'End station number'\n",
    "        elif 'End Station' in cols:\n",
    "            df['End station number']= (df['End Station'].str.replace('(Dupont Circle south)','0').astype(str).str.extract(r\"\\((.*?)\\)\")).astype(float)\n",
    "            end_stat = 'End station number'\n",
    "    if 'End station number' in cols:\n",
    "        end_stat = 'End station number'\n",
    "    new_end = 'end_stat'\n",
    "    if 'Start station number' in cols:\n",
    "        start_stat = 'Start station number'\n",
    "    new_start = 'start_stat'\n",
    "    if 'Bike number' in cols:\n",
    "        bike_num = 'Bike number'\n",
    "    elif 'Bike #' in cols:\n",
    "        bike_num = 'Bike #'\n",
    "    elif 'Bike#' in cols:\n",
    "        bike_num = 'Bike#'\n",
    "    new_bike = 'bike_id'\n",
    "    if 'Member Type' in cols:\n",
    "        mem = 'Member Type'\n",
    "    elif 'Member type' in cols:\n",
    "        mem = 'Member type'\n",
    "    elif 'Account type' in cols:\n",
    "        mem = 'Account type'\n",
    "    elif 'Type' in cols:\n",
    "        mem= 'Type'\n",
    "    elif 'Subscription type' in cols:\n",
    "        mem = 'Subscription type'\n",
    "    elif 'Subscription Type' in cols:\n",
    "        mem = 'Subscription Type'\n",
    "    elif 'Subscriber Type' in cols:\n",
    "        mem = 'Subscriber Type'\n",
    "    elif 'Bike Key' in cols:\n",
    "        mem = 'Bike Key'    \n",
    "    new_mem='type'\n",
    "    df.rename(columns = {end_stat:new_end, start_stat:new_start, bike_num:new_bike, mem:new_mem},inplace=True)"
   ]
  },
  {
   "cell_type": "code",
   "execution_count": 15,
   "metadata": {
    "collapsed": true
   },
   "outputs": [],
   "source": [
    "# generating the hours dataset for each station\n",
    "def station_hours(df, start_date='', end_date=''):\n",
    "    '''This function takes in a period of bikeshare data, then pumps out a dicitionary of data frames of the per hour movement \n",
    "    of bikes within the station. It also generates new hour periods and trims columns'''\n",
    "    if start_date=='':\n",
    "        start_date=df.start.min()\n",
    "        end_date=df.start.max()\n",
    "    ix = pd.DatetimeIndex(start=pd.to_datetime(start_date), end=pd.to_datetime(end_date), freq='H')\n",
    "    hours = pd.DataFrame(ix.map(lambda x: x.strftime('%Y-%m-%d %H')), columns = ['start'])\n",
    "    stats = {}\n",
    "    racks = df.start_stat.unique()\n",
    "    dc_racks = get_dc()\n",
    "    for rack in dc_racks:\n",
    "        rack = float(rack)\n",
    "        try:\n",
    "            temp=df[(df['start_stat']==rack)|(df['end_stat']==rack)].copy(deep=True)\n",
    "            temp['moved_in']=temp[temp['start_stat']==rack].moved\n",
    "            temp['moved_out']=temp[temp['end_stat']==rack].moved\n",
    "            temp['in']= (temp.end_stat==rack).astype(int)\n",
    "            temp['out']=(temp.start_stat==rack).astype(int)\n",
    "            temp_temp = temp.drop(['end_stat', 'start_stat', 'moved'], axis=1)\n",
    "            temp_grp = temp_temp.groupby(temp_temp['start']).sum().reset_index()\n",
    "            temp_all = hours.merge(temp_grp, how = 'left', on = 'start')\n",
    "            temp_all.fillna(0, inplace=True)\n",
    "            stats[rack]=temp_all.copy(deep=True)\n",
    "        except TypeError:\n",
    "            print type(rack), type(df.loc[0,'start_stat']), type(df.loc[0,'end_stat'])\n",
    "            pass\n",
    "    return stats\n",
    "\n",
    "def get_dc():\n",
    "    url = 'https://gbfs.capitalbikeshare.com/gbfs/en/station_information.json'\n",
    "    r = requests.get(url)\n",
    "    results = r.json()['data']['stations']\n",
    "    stations_list=pd.DataFrame.from_dict(results, orient='columns')\n",
    "    ## only regions 41 and 42 are in DC and Virginia, so I'll only use those\n",
    "    dc_va=stations_list[(stations_list.region_id==41)|(stations_list.region_id==42)].copy(deep=True)\n",
    "    dc_stations=set(dc_va.short_name.unique())\n",
    "    return dc_stations"
   ]
  },
  {
   "cell_type": "code",
   "execution_count": 16,
   "metadata": {
    "collapsed": true
   },
   "outputs": [],
   "source": [
    "# saving each station as a dataframe\n",
    "def save_stations(data,path):\n",
    "    '''This function takes in a dictionary of station data frames then saves them to my folder'''\n",
    "    for station in data.keys():\n",
    "        data[station].to_csv('../cap_data' + path + '_'+ str(station) + '.csv', index=False)"
   ]
  },
  {
   "cell_type": "code",
   "execution_count": 17,
   "metadata": {
    "collapsed": true
   },
   "outputs": [],
   "source": [
    "## defining my cleaning functions\n",
    "\n",
    "def prev_station(df):\n",
    "    df['previous']=df.sort_values(['bike_id','start']).groupby('bike_id')['end_stat'].shift(1)\n",
    "    df['previous'].fillna(df['end_stat'])\n",
    "    \n",
    "def moved(df):\n",
    "    df['moved']=(df['start_stat']!=df['previous']).astype(int)\n",
    "    \n",
    "def drop_cols(df):\n",
    "    cols=set(df.columns)\n",
    "    if 'Duration' in cols:\n",
    "        dur = 'Duration'\n",
    "    elif 'Duration (ms)' in cols:\n",
    "        dur = 'Duration (ms)'\n",
    "    elif 'Total duration (ms)' in cols:\n",
    "        dur = 'Total duration (ms)'\n",
    "    if 'Start date' in cols:\n",
    "        st= 'Start date'\n",
    "        end = 'End date'\n",
    "    elif 'Start time' in cols:\n",
    "        st= 'Start time'\n",
    "        end = 'End date'\n",
    "    if 'Start Station' in cols:\n",
    "        st_stat = 'Start Station'\n",
    "    elif \"Start station\" in cols:\n",
    "        st_stat ='Start station'\n",
    "    if 'End Station' in cols:\n",
    "        e_stat = 'End Station'\n",
    "    elif \"End station\" in cols:\n",
    "        e_stat ='End station'\n",
    "    df.drop([dur, st, end, 'end', 'previous','trip_time','bike_id','type', 'start_weekday', 'end_weekday', 'start_minute', 'end_minute', st_stat, e_stat, 'end_year', 'end_month', 'end_day','end_hour', 'start_year', 'start_month', 'start_day', 'start_hour'], axis=1, inplace=True)\n"
   ]
  },
  {
   "cell_type": "code",
   "execution_count": null,
   "metadata": {
    "collapsed": true
   },
   "outputs": [],
   "source": [
    "## looping through all the files and converting them, then exporting them\n",
    "import time\n",
    "start_time = time.time()\n",
    "final_stats = get_dc()\n",
    "final_stations = [float(x) for x in final_stats]\n",
    "for bike in files:\n",
    "    print bike\n",
    "    stats=''\n",
    "    nm = bike[7:-4]\n",
    "    bikes = pd.read_csv(bike)\n",
    "    make_dates(bikes)\n",
    "    rename(bikes)\n",
    "    prev_station(bikes)\n",
    "    moved(bikes)\n",
    "    drop_cols(bikes)\n",
    "    stats = station_hours(bikes)\n",
    "    save_stations(stats, nm)\n",
    "    \n",
    "time2 = time.time()\n",
    "print str((time2 - start_time)/60.) + ' minutes to run'"
   ]
  },
  {
   "cell_type": "code",
   "execution_count": null,
   "metadata": {
    "collapsed": true
   },
   "outputs": [],
   "source": [
    "# this loop combines all the quarter station data frames into data frames for each station\n",
    "start_time = time.time()\n",
    "loop_stats = [str(x) for x in final_stations]\n",
    "for stat in loop_stats:\n",
    "    bike_data= glob.glob('../cap_data/*' + stat + '.csv')\n",
    "    bike_df = pd.DataFrame(columns = pd.read_csv(bike_data[0]).columns)\n",
    "    for bike_st in bike_data:\n",
    "        bike_df=bike_df.append(pd.read_csv(bike_st))\n",
    "    bike_df_1 = bike_df.drop(['station'],axis=1).drop_duplicates()\n",
    "    bike_df_2 = bike_df_1.groupby('start').sum().reset_index()\n",
    "    bike_df_2.to_csv('../cap_data/stations/' + stat + '_data.csv', index=False)\n",
    "time2 = time.time()\n",
    "print str((time2 - start_time)/60.) + ' minutes to run'"
   ]
  },
  {
   "cell_type": "code",
   "execution_count": 7,
   "metadata": {},
   "outputs": [
    {
     "name": "stdout",
     "output_type": "stream",
     "text": [
      "            date     in  moved_in  moved_out   out   net  status\n",
      "2385  2017-03-27  100.0      51.0       52.0  84.0  15.0    15.0\n",
      "2386  2017-03-28   89.0      34.0       41.0  71.0  11.0    11.0\n",
      "2387  2017-03-29   90.0      39.0       42.0  72.0  15.0    15.0\n",
      "2388  2017-03-30   74.0      37.0       29.0  74.0   8.0     8.0\n",
      "2389  2017-03-31   27.0      10.0        7.0  24.0   6.0     6.0\n",
      "            date group    in  moved_in  moved_out   out  net  status\n",
      "9553  2017-03-30  pm_2  13.0      11.0        5.0  13.0  6.0     8.0\n",
      "9554  2017-03-31  am_1   0.0       0.0        0.0   2.0 -2.0    -2.0\n",
      "9555  2017-03-31  am_2   3.0       0.0        0.0   3.0  0.0    -2.0\n",
      "9556  2017-03-31  pm_1  21.0       8.0        7.0  14.0  8.0     6.0\n",
      "9557  2017-03-31  pm_2   3.0       2.0        0.0   5.0  0.0     6.0\n"
     ]
    }
   ],
   "source": [
    "# practicing making grouped cumulative sums\n",
    "stat_files = glob.glob('../cap_data/stations/*_data.csv')\n",
    "diff_df=pd.read_csv(stat_files[300])\n",
    "diff_df['date']=diff_df['start'].apply(lambda x: x.split(' ')[0])\n",
    "diff_df['hour']=diff_df['start'].apply(lambda x: x.split(' ')[1]).astype(int)\n",
    "diff_df['group']=diff_df.hour.apply(lambda x: 'am_1' if x<7 else 'am_2' if x<13 else 'pm_1' if x<19 else 'pm_2' )\n",
    "day_df=diff_df.drop(['start', 'hour','group'], axis=1).groupby('date').sum().reset_index()\n",
    "per_df=diff_df.drop(['start','hour'], axis=1).groupby(['date', 'group']).sum().reset_index()\n",
    "day_df['net']=day_df['in']+day_df['moved_in'] - day_df['out']-day_df['moved_out']\n",
    "per_df['net']=per_df['in']+per_df['moved_in'] - per_df['out']-per_df['moved_out']\n",
    "day_df['status']=day_df.groupby('date').net.cumsum()\n",
    "day_cols = list(day_df.columns)\n",
    "per_df['status']=per_df.groupby('date').net.cumsum()\n",
    "per_cols= list(per_df.columns)\n",
    "day_cols.append('station')\n",
    "per_cols.append('station')\n",
    "print day_df.tail()\n",
    "print per_df.tail()"
   ]
  },
  {
   "cell_type": "code",
   "execution_count": 8,
   "metadata": {},
   "outputs": [
    {
     "name": "stdout",
     "output_type": "stream",
     "text": [
      "10 0.0312509854635 minutes in\n",
      "20 0.0626602689425 minutes in\n",
      "30 0.0974544843038 minutes in\n",
      "40 0.133962349097 minutes in\n",
      "50 0.173058485985 minutes in\n",
      "60 0.214985815684 minutes in\n",
      "70 0.259259001414 minutes in\n",
      "80 0.305827701092 minutes in\n",
      "90 0.355476884047 minutes in\n",
      "100 0.408251901468 minutes in\n",
      "110 0.464418017864 minutes in\n",
      "120 0.523521566391 minutes in\n",
      "130 0.587076151371 minutes in\n",
      "140 0.659903033574 minutes in\n",
      "150 0.731680083275 minutes in\n",
      "160 0.808403166135 minutes in\n",
      "170 0.886609299978 minutes in\n",
      "180 0.971607132753 minutes in\n",
      "190 1.05288760265 minutes in\n",
      "200 1.13588166634 minutes in\n",
      "210 1.22159073353 minutes in\n",
      "220 1.31039191882 minutes in\n",
      "230 1.40169895093 minutes in\n",
      "240 1.49643390179 minutes in\n",
      "250 1.59397953351 minutes in\n",
      "260 1.69472895066 minutes in\n",
      "270 1.79719014963 minutes in\n",
      "280 1.90303733349 minutes in\n",
      "290 2.01308805148 minutes in\n",
      "300 2.12640906572 minutes in\n",
      "310 2.24200591644 minutes in\n",
      "320 2.36021746794 minutes in\n",
      "330 2.48054313262 minutes in\n",
      "340 2.60000481606 minutes in\n",
      "2.68668278456 minutes to run\n"
     ]
    }
   ],
   "source": [
    "# making the dataframes for all stations by day and by 6 hour block\n",
    "start_time=time.time()\n",
    "count=0\n",
    "stat_files = glob.glob('../cap_data/stations/*_data.csv')\n",
    "days_df =pd.DataFrame(columns = day_cols)\n",
    "pers_df =pd.DataFrame(columns = per_cols)\n",
    "for st in stat_files:\n",
    "    d = pd.read_csv(st)\n",
    "    d['date']=diff_df['start'].apply(lambda x: x.split(' ')[0])\n",
    "    d['hour']=d['start'].apply(lambda x: x.split(' ')[1]).astype(int)\n",
    "    d['group']=d.hour.apply(lambda x: 'am_1' if x<7 else 'am_2' if x<13 else 'pm_1' if x<19 else 'pm_2' )\n",
    "    day=d.drop(['start', 'hour','group'], axis=1).groupby('date').sum().reset_index()\n",
    "    per=d.drop(['start','hour'], axis=1).groupby(['date', 'group']).sum().reset_index()\n",
    "    day['net']=day['in']+day['moved_in'] - day['out']-day['moved_out']\n",
    "    per['net']=per['in']+per['moved_in'] - per['out']-per['moved_out']\n",
    "    day['status']=day.groupby('date').net.cumsum()\n",
    "    day['station']=st[-16:-9]\n",
    "    per['status']=per.groupby('date').net.cumsum()\n",
    "    day_m=min(per[(per['in']!=0)|(per['out']!=0)|(per['moved_in']!=0)|(per['moved_out']!=0)].index)\n",
    "    per_m=min(day[(day['in']!=0)|(day['out']!=0)|(day['moved_in']!=0)|(day['moved_out']!=0)].index)\n",
    "    per['station']=st[-16:-9]\n",
    "    days_df=days_df.append(day[day_m:])\n",
    "    pers_df=pers_df.append(per[per_m:])\n",
    "    count+=1\n",
    "    if count%10==0:\n",
    "        print str(count) + ' ' + str((time.time()-start_time)/60.) + ' minutes in'\n",
    "end_time = time.time()\n",
    "print str((end_time - start_time)/60.) + ' minutes to run'"
   ]
  },
  {
   "cell_type": "code",
   "execution_count": 9,
   "metadata": {},
   "outputs": [
    {
     "data": {
      "text/plain": [
       "reg      2971414\n",
       "full        3974\n",
       "empty       3694\n",
       "Name: state, dtype: int64"
      ]
     },
     "execution_count": 9,
     "metadata": {},
     "output_type": "execute_result"
    }
   ],
   "source": [
    "## making the dataframe of all stations and their top 4 distances\n",
    "    # need to make the net/6 and net/24 for the hourly rates\n",
    "pers_df['capacity']=pers_df['station'].apply(lambda x: capacities[str(int(float(x)))])\n",
    "pers_df['state']=['empty' if x<-y else 'full' if x>y else 'reg' for x,y in zip(pers_df['status'],pers_df['capacity'])]\n",
    "pers_df.state.value_counts()"
   ]
  },
  {
   "cell_type": "code",
   "execution_count": 10,
   "metadata": {},
   "outputs": [
    {
     "data": {
      "text/html": [
       "<div>\n",
       "<style>\n",
       "    .dataframe thead tr:only-child th {\n",
       "        text-align: right;\n",
       "    }\n",
       "\n",
       "    .dataframe thead th {\n",
       "        text-align: left;\n",
       "    }\n",
       "\n",
       "    .dataframe tbody tr th {\n",
       "        vertical-align: top;\n",
       "    }\n",
       "</style>\n",
       "<table border=\"1\" class=\"dataframe\">\n",
       "  <thead>\n",
       "    <tr style=\"text-align: right;\">\n",
       "      <th></th>\n",
       "      <th>date</th>\n",
       "      <th>in</th>\n",
       "      <th>moved_in</th>\n",
       "      <th>moved_out</th>\n",
       "      <th>out</th>\n",
       "      <th>net</th>\n",
       "      <th>status</th>\n",
       "      <th>station</th>\n",
       "      <th>capacity</th>\n",
       "      <th>state</th>\n",
       "    </tr>\n",
       "  </thead>\n",
       "  <tbody>\n",
       "    <tr>\n",
       "      <th>20</th>\n",
       "      <td>2010-10-05</td>\n",
       "      <td>2.0</td>\n",
       "      <td>5.0</td>\n",
       "      <td>0.0</td>\n",
       "      <td>6.0</td>\n",
       "      <td>1.0</td>\n",
       "      <td>1.0</td>\n",
       "      <td>31000.0</td>\n",
       "      <td>15.0</td>\n",
       "      <td>reg</td>\n",
       "    </tr>\n",
       "    <tr>\n",
       "      <th>21</th>\n",
       "      <td>2010-10-06</td>\n",
       "      <td>1.0</td>\n",
       "      <td>0.0</td>\n",
       "      <td>1.0</td>\n",
       "      <td>1.0</td>\n",
       "      <td>-1.0</td>\n",
       "      <td>-1.0</td>\n",
       "      <td>31000.0</td>\n",
       "      <td>15.0</td>\n",
       "      <td>reg</td>\n",
       "    </tr>\n",
       "    <tr>\n",
       "      <th>22</th>\n",
       "      <td>2010-10-07</td>\n",
       "      <td>4.0</td>\n",
       "      <td>2.0</td>\n",
       "      <td>2.0</td>\n",
       "      <td>3.0</td>\n",
       "      <td>1.0</td>\n",
       "      <td>1.0</td>\n",
       "      <td>31000.0</td>\n",
       "      <td>15.0</td>\n",
       "      <td>reg</td>\n",
       "    </tr>\n",
       "    <tr>\n",
       "      <th>23</th>\n",
       "      <td>2010-10-08</td>\n",
       "      <td>0.0</td>\n",
       "      <td>0.0</td>\n",
       "      <td>0.0</td>\n",
       "      <td>3.0</td>\n",
       "      <td>-3.0</td>\n",
       "      <td>-3.0</td>\n",
       "      <td>31000.0</td>\n",
       "      <td>15.0</td>\n",
       "      <td>reg</td>\n",
       "    </tr>\n",
       "    <tr>\n",
       "      <th>24</th>\n",
       "      <td>2010-10-09</td>\n",
       "      <td>2.0</td>\n",
       "      <td>3.0</td>\n",
       "      <td>2.0</td>\n",
       "      <td>3.0</td>\n",
       "      <td>0.0</td>\n",
       "      <td>0.0</td>\n",
       "      <td>31000.0</td>\n",
       "      <td>15.0</td>\n",
       "      <td>reg</td>\n",
       "    </tr>\n",
       "  </tbody>\n",
       "</table>\n",
       "</div>"
      ],
      "text/plain": [
       "          date   in  moved_in  moved_out  out  net  status  station  capacity  \\\n",
       "20  2010-10-05  2.0       5.0        0.0  6.0  1.0     1.0  31000.0      15.0   \n",
       "21  2010-10-06  1.0       0.0        1.0  1.0 -1.0    -1.0  31000.0      15.0   \n",
       "22  2010-10-07  4.0       2.0        2.0  3.0  1.0     1.0  31000.0      15.0   \n",
       "23  2010-10-08  0.0       0.0        0.0  3.0 -3.0    -3.0  31000.0      15.0   \n",
       "24  2010-10-09  2.0       3.0        2.0  3.0  0.0     0.0  31000.0      15.0   \n",
       "\n",
       "   state  \n",
       "20   reg  \n",
       "21   reg  \n",
       "22   reg  \n",
       "23   reg  \n",
       "24   reg  "
      ]
     },
     "execution_count": 10,
     "metadata": {},
     "output_type": "execute_result"
    }
   ],
   "source": [
    "days_df['capacity']=days_df['station'].apply(lambda x: capacities[str(int(float(x)))])\n",
    "days_df['state']=['empty' if x<-y else 'full' if x>y/2 else 'reg' for x,y in zip(days_df['status'],days_df['capacity'])]\n",
    "days_df.head()"
   ]
  },
  {
   "cell_type": "code",
   "execution_count": 11,
   "metadata": {},
   "outputs": [
    {
     "name": "stdout",
     "output_type": "stream",
     "text": [
      "reg      2971414\n",
      "full        3974\n",
      "empty       3694\n",
      "Name: state, dtype: int64\n",
      "\n",
      "\n",
      "reg      268659\n",
      "full       7202\n",
      "empty       286\n",
      "Name: state, dtype: int64\n"
     ]
    }
   ],
   "source": [
    "# i'm going to drop observations before stations become active\n",
    "print pers_df.state.value_counts()\n",
    "print '\\n'\n",
    "print days_df.state.value_counts()"
   ]
  },
  {
   "cell_type": "code",
   "execution_count": 12,
   "metadata": {
    "collapsed": true
   },
   "outputs": [],
   "source": [
    "# only making top 4 rows for stations with more than 5 empties"
   ]
  },
  {
   "cell_type": "code",
   "execution_count": 34,
   "metadata": {
    "scrolled": true
   },
   "outputs": [
    {
     "name": "stdout",
     "output_type": "stream",
     "text": [
      "55\n",
      "229\n"
     ]
    }
   ],
   "source": [
    "days_cts = pd.crosstab(days_df.station, days_df.state)\n",
    "pers_cts = pd.crosstab(pers_df.station, pers_df.state)\n",
    "print len(days_cts[days_cts['empty']>=1])\n",
    "print len(pers_cts[pers_cts['empty']>=1])\n",
    "day_racks = set([str(x)[:-2] for x in days_cts[days_cts['empty']>=1].index])\n",
    "per_racks = set([str(x)[:-2] for x in pers_cts[pers_cts['empty']>=1].index])"
   ]
  },
  {
   "cell_type": "code",
   "execution_count": 39,
   "metadata": {
    "scrolled": true
   },
   "outputs": [
    {
     "data": {
      "text/plain": [
       "{'31000',\n",
       " '31003',\n",
       " '31008',\n",
       " '31018',\n",
       " '31020',\n",
       " '31101',\n",
       " '31102',\n",
       " '31104',\n",
       " '31105',\n",
       " '31107',\n",
       " '31109',\n",
       " '31110',\n",
       " '31111',\n",
       " '31113',\n",
       " '31200',\n",
       " '31201',\n",
       " '31202',\n",
       " '31203',\n",
       " '31206',\n",
       " '31209',\n",
       " '31212',\n",
       " '31213',\n",
       " '31214',\n",
       " '31218',\n",
       " '31222',\n",
       " '31224',\n",
       " '31226',\n",
       " '31229',\n",
       " '31237',\n",
       " '31239',\n",
       " '31241',\n",
       " '31245',\n",
       " '31300',\n",
       " '31301',\n",
       " '31305',\n",
       " '31400',\n",
       " '31401',\n",
       " '31404',\n",
       " '31503',\n",
       " '31600',\n",
       " '31602',\n",
       " '31603',\n",
       " '31604',\n",
       " '31605',\n",
       " '31606',\n",
       " '31608',\n",
       " '31610',\n",
       " '31613',\n",
       " '31616',\n",
       " '31618',\n",
       " '31623',\n",
       " '31624',\n",
       " '31700',\n",
       " '31801',\n",
       " '31802'}"
      ]
     },
     "execution_count": 39,
     "metadata": {},
     "output_type": "execute_result"
    }
   ],
   "source": [
    "day_racks"
   ]
  },
  {
   "cell_type": "code",
   "execution_count": 43,
   "metadata": {
    "scrolled": true
   },
   "outputs": [
    {
     "name": "stdout",
     "output_type": "stream",
     "text": [
      "31292\n",
      "31293\n",
      "31620\n",
      "31298\n",
      "31299\n",
      "31913\n",
      "31912\n",
      "31910\n",
      "31916\n",
      "31915\n",
      "31914\n",
      "31918\n",
      "31279\n",
      "31276\n",
      "31277\n",
      "31274\n",
      "31275\n",
      "31272\n",
      "31273\n",
      "31271\n",
      "32013\n",
      "32012\n",
      "32011\n",
      "32010\n",
      "32017\n",
      "32016\n",
      "32015\n",
      "32014\n",
      "32019\n",
      "32018\n",
      "31250\n",
      "31240\n",
      "31009\n",
      "31005\n",
      "31002\n",
      "31621\n",
      "31076\n",
      "31306\n",
      "31302\n",
      "31097\n",
      "31094\n",
      "31098\n",
      "31099\n",
      "32057\n",
      "32056\n",
      "32055\n",
      "32054\n",
      "32053\n",
      "32052\n",
      "32051\n",
      "32050\n",
      "32059\n",
      "32058\n",
      "31228\n",
      "31287\n",
      "31284\n",
      "31283\n",
      "31126\n",
      "31127\n",
      "31124\n",
      "31122\n",
      "31123\n",
      "50 - 1.16264561812 minutes in\n",
      "31232\n",
      "31233\n",
      "31230\n",
      "31231\n",
      "31236\n",
      "31235\n",
      "31238\n",
      "31041\n",
      "31043\n",
      "31042\n",
      "31045\n",
      "31044\n",
      "31048\n",
      "31518\n",
      "31128\n",
      "31516\n",
      "31052\n",
      "31908\n",
      "31909\n",
      "31904\n",
      "31906\n",
      "31907\n",
      "31900\n",
      "31903\n",
      "32224\n",
      "32225\n",
      "32220\n",
      "32221\n",
      "32222\n",
      "32223\n",
      "31505\n",
      "31248\n",
      "31243\n",
      "31242\n",
      "31246\n",
      "32008\n",
      "32009\n",
      "32004\n",
      "32005\n",
      "32006\n",
      "32007\n",
      "32000\n",
      "32001\n",
      "32002\n",
      "32003\n",
      "31644\n",
      "31643\n",
      "31642\n",
      "31014\n",
      "31015\n",
      "31011\n",
      "32219\n",
      "32218\n",
      "32215\n",
      "32214\n",
      "32217\n",
      "32216\n",
      "32211\n",
      "32210\n",
      "32213\n",
      "32212\n",
      "32040\n",
      "32041\n",
      "32042\n",
      "32043\n",
      "32044\n",
      "32045\n",
      "32046\n",
      "32047\n",
      "32048\n",
      "32049\n",
      "31291\n",
      "31294\n",
      "31295\n",
      "31296\n",
      "31297\n",
      "100 - 2.34856476784 minutes in\n",
      "32035\n",
      "32034\n",
      "32037\n",
      "32036\n",
      "32031\n",
      "32030\n",
      "32033\n",
      "32032\n",
      "32039\n",
      "32038\n",
      "31208\n",
      "31205\n",
      "31812\n",
      "31811\n",
      "31507\n",
      "31508\n",
      "31712\n",
      "31413\n",
      "31411\n",
      "32071\n",
      "32070\n",
      "32072\n",
      "31515\n",
      "31513\n",
      "150 - 3.54039261738 minutes in\n",
      "31047\n",
      "31022\n",
      "31046\n",
      "31024\n",
      "31254\n",
      "31255\n",
      "31256\n",
      "31252\n",
      "31253\n",
      "31625\n",
      "31259\n",
      "31320\n",
      "31321\n",
      "32208\n",
      "32209\n",
      "32206\n",
      "32207\n",
      "32204\n",
      "32205\n",
      "32203\n",
      "32200\n",
      "32201\n",
      "31264\n",
      "31261\n",
      "31260\n",
      "31263\n",
      "32026\n",
      "32027\n",
      "32024\n",
      "32025\n",
      "32022\n",
      "32023\n",
      "32020\n",
      "32021\n",
      "32028\n",
      "32029\n",
      "31219\n",
      "31211\n",
      "31215\n",
      "31216\n",
      "31217\n",
      "31405\n",
      "31407\n",
      "31517\n",
      "31106\n",
      "31103\n",
      "31315\n",
      "200 - 4.75086476803 minutes in\n",
      "31317\n",
      "31316\n",
      "31310\n",
      "31319\n",
      "31318\n",
      "31085\n",
      "31084\n",
      "31087\n",
      "31086\n",
      "31081\n",
      "31083\n",
      "31082\n",
      "31089\n",
      "31088\n",
      "31714\n",
      "32068\n",
      "32069\n",
      "32062\n",
      "32063\n",
      "32061\n",
      "32066\n",
      "32067\n",
      "32064\n",
      "32065\n",
      "31707\n",
      "31522\n",
      "31520\n",
      "31521\n",
      "31221\n",
      "31225\n",
      "31227\n",
      "31637\n",
      "31634\n",
      "31635\n",
      "31633\n",
      "31037\n",
      "31039\n",
      "5.44808994929 minutes to run\n"
     ]
    }
   ],
   "source": [
    "## mixing the top 4 stations for each\n",
    "start_time=time.time()\n",
    "count=0\n",
    "model_days = pd.DataFrame(columns =['station', 'state', 'avg_rate'])\n",
    "model_pers = pd.DataFrame(columns =['station', 'state', 'avg_rate'])\n",
    "for fin in closest.keys():\n",
    "    p=0\n",
    "    d=0\n",
    "    rack = fin + '.0'\n",
    "    if fin in day_racks:\n",
    "        temp_days = days_df[days_df['station']==rack][['date','state']]\n",
    "        d=1\n",
    "    if fin in per_racks:\n",
    "        temp_pers = pers_df[pers_df['station']==rack][['date','group','state']]\n",
    "        p=1\n",
    "    if (p==0) & (d==0):\n",
    "    else:\n",
    "        if d==1:\n",
    "            c = 1\n",
    "            for s in closest[fin]:\n",
    "                r = s + '.0'\n",
    "                top_d = days_df[days_df['station']==r][['date','net']]\n",
    "                top_d['rate' + str(c)]=top_d['net']/24.\n",
    "                temp_days = temp_days.merge(top_d[['date','rate' + str(c)]], on ='date', how = 'left')\n",
    "                c+=1\n",
    "            temp_days['avg_rate']=temp_days[['rate1', 'rate2', 'rate3', 'rate4']].mean(axis=1)\n",
    "            temp_days['station']=rack\n",
    "            fin_days = temp_days[['station', 'state', 'avg_rate']]\n",
    "            model_days=model_days.append(fin_days)\n",
    "        if p==1:\n",
    "            c = 1\n",
    "            for s in closest[fin]:\n",
    "                r = s + '.0'\n",
    "                top_p = pers_df[pers_df['station']==r][['date','group','net']]\n",
    "                top_p['rate' + str(c)]=top_p['net']/6.\n",
    "                temp_pers = temp_pers.merge(top_p[['date','group','rate' + str(c)]], on =['date','group'], how = 'left')\n",
    "                c+=1\n",
    "            temp_pers['avg_rate']=temp_pers[['rate1', 'rate2', 'rate3', 'rate4']].mean(axis=1)\n",
    "            temp_pers['station']=rack\n",
    "            fin_pers = temp_pers[['station', 'state', 'avg_rate']]\n",
    "            model_pers=model_pers.append(fin_pers)\n",
    "        count+=1\n",
    "        if count%50==0:\n",
    "            print str(count) + ' - ' + str((time.time()-start_time)/60.) + ' minutes in'\n",
    "end_time = time.time()\n",
    "print str((end_time - start_time)/60.) + ' minutes to run'"
   ]
  },
  {
   "cell_type": "code",
   "execution_count": 44,
   "metadata": {},
   "outputs": [
    {
     "name": "stdout",
     "output_type": "stream",
     "text": [
      "station         0\n",
      "state           0\n",
      "avg_rate    11591\n",
      "dtype: int64\n",
      "\n",
      "\n",
      "station        0\n",
      "state          0\n",
      "avg_rate    7445\n",
      "dtype: int64\n",
      "(117623, 3) (1996748, 3)\n",
      "reg      114383\n",
      "full       2954\n",
      "empty       286\n",
      "Name: state, dtype: int64\n",
      "reg      1991766\n",
      "empty       3694\n",
      "full        1288\n",
      "Name: state, dtype: int64\n"
     ]
    }
   ],
   "source": [
    "print model_days.isnull().sum()\n",
    "print '\\n'\n",
    "print model_pers.isnull().sum()\n",
    "print model_days.shape, model_pers.shape\n",
    "print model_days.state.value_counts()\n",
    "print model_pers.state.value_counts()"
   ]
  },
  {
   "cell_type": "code",
   "execution_count": 45,
   "metadata": {},
   "outputs": [
    {
     "name": "stdout",
     "output_type": "stream",
     "text": [
      "station     0\n",
      "state       0\n",
      "avg_rate    0\n",
      "dtype: int64\n",
      "station     0\n",
      "state       0\n",
      "avg_rate    0\n",
      "dtype: int64\n"
     ]
    }
   ],
   "source": [
    "## dropping nulls\n",
    "model_days_1=model_days.dropna()\n",
    "print model_days_1.isnull().sum()\n",
    "model_pers_1 = model_pers.dropna()\n",
    "print model_pers_1.isnull().sum()"
   ]
  },
  {
   "cell_type": "code",
   "execution_count": 46,
   "metadata": {
    "collapsed": true
   },
   "outputs": [],
   "source": [
    "# exporting to csv just in case\n",
    "model_days_1.to_csv('../cap_data/model_data/model_days.csv',index=False)\n",
    "model_pers_1.to_csv('../cap_data/model_data/periods_days.csv',index=False)"
   ]
  },
  {
   "cell_type": "code",
   "execution_count": 47,
   "metadata": {},
   "outputs": [
    {
     "data": {
      "text/plain": [
       "(106032, 3)"
      ]
     },
     "execution_count": 47,
     "metadata": {},
     "output_type": "execute_result"
    }
   ],
   "source": [
    "days_model=pd.read_csv('../cap_data/model_data/model_days.csv')\n",
    "days_model.shape"
   ]
  },
  {
   "cell_type": "code",
   "execution_count": 76,
   "metadata": {},
   "outputs": [
    {
     "data": {
      "text/plain": [
       "(1989303, 3)"
      ]
     },
     "execution_count": 76,
     "metadata": {},
     "output_type": "execute_result"
    }
   ],
   "source": [
    "pers_model = pd.read_csv('../cap_data/model_data/periods_days.csv')\n",
    "pers_model.shape"
   ]
  },
  {
   "cell_type": "code",
   "execution_count": 49,
   "metadata": {
    "scrolled": true
   },
   "outputs": [
    {
     "data": {
      "text/html": [
       "<div>\n",
       "<style>\n",
       "    .dataframe thead tr:only-child th {\n",
       "        text-align: right;\n",
       "    }\n",
       "\n",
       "    .dataframe thead th {\n",
       "        text-align: left;\n",
       "    }\n",
       "\n",
       "    .dataframe tbody tr th {\n",
       "        vertical-align: top;\n",
       "    }\n",
       "</style>\n",
       "<table border=\"1\" class=\"dataframe\">\n",
       "  <thead>\n",
       "    <tr style=\"text-align: right;\">\n",
       "      <th>state</th>\n",
       "      <th>empty</th>\n",
       "      <th>full</th>\n",
       "      <th>reg</th>\n",
       "    </tr>\n",
       "    <tr>\n",
       "      <th>station</th>\n",
       "      <th></th>\n",
       "      <th></th>\n",
       "      <th></th>\n",
       "    </tr>\n",
       "  </thead>\n",
       "  <tbody>\n",
       "    <tr>\n",
       "      <th>31000.0</th>\n",
       "      <td>4</td>\n",
       "      <td>0</td>\n",
       "      <td>9549</td>\n",
       "    </tr>\n",
       "    <tr>\n",
       "      <th>31001.0</th>\n",
       "      <td>13</td>\n",
       "      <td>1</td>\n",
       "      <td>9539</td>\n",
       "    </tr>\n",
       "    <tr>\n",
       "      <th>31003.0</th>\n",
       "      <td>14</td>\n",
       "      <td>2</td>\n",
       "      <td>9537</td>\n",
       "    </tr>\n",
       "    <tr>\n",
       "      <th>31004.0</th>\n",
       "      <td>34</td>\n",
       "      <td>1</td>\n",
       "      <td>9518</td>\n",
       "    </tr>\n",
       "    <tr>\n",
       "      <th>31006.0</th>\n",
       "      <td>6</td>\n",
       "      <td>0</td>\n",
       "      <td>9547</td>\n",
       "    </tr>\n",
       "    <tr>\n",
       "      <th>31007.0</th>\n",
       "      <td>1</td>\n",
       "      <td>0</td>\n",
       "      <td>9552</td>\n",
       "    </tr>\n",
       "    <tr>\n",
       "      <th>31008.0</th>\n",
       "      <td>28</td>\n",
       "      <td>2</td>\n",
       "      <td>9522</td>\n",
       "    </tr>\n",
       "    <tr>\n",
       "      <th>31010.0</th>\n",
       "      <td>15</td>\n",
       "      <td>3</td>\n",
       "      <td>9535</td>\n",
       "    </tr>\n",
       "    <tr>\n",
       "      <th>31012.0</th>\n",
       "      <td>4</td>\n",
       "      <td>2</td>\n",
       "      <td>9547</td>\n",
       "    </tr>\n",
       "    <tr>\n",
       "      <th>31013.0</th>\n",
       "      <td>3</td>\n",
       "      <td>0</td>\n",
       "      <td>9547</td>\n",
       "    </tr>\n",
       "    <tr>\n",
       "      <th>31016.0</th>\n",
       "      <td>4</td>\n",
       "      <td>0</td>\n",
       "      <td>9341</td>\n",
       "    </tr>\n",
       "    <tr>\n",
       "      <th>31017.0</th>\n",
       "      <td>1</td>\n",
       "      <td>0</td>\n",
       "      <td>8628</td>\n",
       "    </tr>\n",
       "    <tr>\n",
       "      <th>31018.0</th>\n",
       "      <td>31</td>\n",
       "      <td>1</td>\n",
       "      <td>9313</td>\n",
       "    </tr>\n",
       "    <tr>\n",
       "      <th>31019.0</th>\n",
       "      <td>1</td>\n",
       "      <td>0</td>\n",
       "      <td>9124</td>\n",
       "    </tr>\n",
       "    <tr>\n",
       "      <th>31020.0</th>\n",
       "      <td>13</td>\n",
       "      <td>1</td>\n",
       "      <td>9102</td>\n",
       "    </tr>\n",
       "    <tr>\n",
       "      <th>31021.0</th>\n",
       "      <td>2</td>\n",
       "      <td>0</td>\n",
       "      <td>9123</td>\n",
       "    </tr>\n",
       "    <tr>\n",
       "      <th>31023.0</th>\n",
       "      <td>20</td>\n",
       "      <td>3</td>\n",
       "      <td>8606</td>\n",
       "    </tr>\n",
       "    <tr>\n",
       "      <th>31025.0</th>\n",
       "      <td>32</td>\n",
       "      <td>1</td>\n",
       "      <td>8596</td>\n",
       "    </tr>\n",
       "    <tr>\n",
       "      <th>31026.0</th>\n",
       "      <td>2</td>\n",
       "      <td>0</td>\n",
       "      <td>8627</td>\n",
       "    </tr>\n",
       "    <tr>\n",
       "      <th>31027.0</th>\n",
       "      <td>21</td>\n",
       "      <td>0</td>\n",
       "      <td>8608</td>\n",
       "    </tr>\n",
       "    <tr>\n",
       "      <th>31028.0</th>\n",
       "      <td>9</td>\n",
       "      <td>1</td>\n",
       "      <td>8619</td>\n",
       "    </tr>\n",
       "    <tr>\n",
       "      <th>31029.0</th>\n",
       "      <td>18</td>\n",
       "      <td>0</td>\n",
       "      <td>8611</td>\n",
       "    </tr>\n",
       "    <tr>\n",
       "      <th>31030.0</th>\n",
       "      <td>3</td>\n",
       "      <td>0</td>\n",
       "      <td>7805</td>\n",
       "    </tr>\n",
       "    <tr>\n",
       "      <th>31031.0</th>\n",
       "      <td>31</td>\n",
       "      <td>1</td>\n",
       "      <td>8597</td>\n",
       "    </tr>\n",
       "    <tr>\n",
       "      <th>31032.0</th>\n",
       "      <td>20</td>\n",
       "      <td>1</td>\n",
       "      <td>8607</td>\n",
       "    </tr>\n",
       "    <tr>\n",
       "      <th>31033.0</th>\n",
       "      <td>16</td>\n",
       "      <td>2</td>\n",
       "      <td>7790</td>\n",
       "    </tr>\n",
       "    <tr>\n",
       "      <th>31034.0</th>\n",
       "      <td>16</td>\n",
       "      <td>3</td>\n",
       "      <td>8610</td>\n",
       "    </tr>\n",
       "    <tr>\n",
       "      <th>31035.0</th>\n",
       "      <td>36</td>\n",
       "      <td>2</td>\n",
       "      <td>8591</td>\n",
       "    </tr>\n",
       "    <tr>\n",
       "      <th>31036.0</th>\n",
       "      <td>4</td>\n",
       "      <td>0</td>\n",
       "      <td>8625</td>\n",
       "    </tr>\n",
       "    <tr>\n",
       "      <th>31038.0</th>\n",
       "      <td>11</td>\n",
       "      <td>2</td>\n",
       "      <td>8616</td>\n",
       "    </tr>\n",
       "    <tr>\n",
       "      <th>...</th>\n",
       "      <td>...</td>\n",
       "      <td>...</td>\n",
       "      <td>...</td>\n",
       "    </tr>\n",
       "    <tr>\n",
       "      <th>31641.0</th>\n",
       "      <td>1</td>\n",
       "      <td>0</td>\n",
       "      <td>7476</td>\n",
       "    </tr>\n",
       "    <tr>\n",
       "      <th>31645.0</th>\n",
       "      <td>8</td>\n",
       "      <td>0</td>\n",
       "      <td>7261</td>\n",
       "    </tr>\n",
       "    <tr>\n",
       "      <th>31700.0</th>\n",
       "      <td>13</td>\n",
       "      <td>1</td>\n",
       "      <td>9517</td>\n",
       "    </tr>\n",
       "    <tr>\n",
       "      <th>31701.0</th>\n",
       "      <td>17</td>\n",
       "      <td>1</td>\n",
       "      <td>9253</td>\n",
       "    </tr>\n",
       "    <tr>\n",
       "      <th>31702.0</th>\n",
       "      <td>13</td>\n",
       "      <td>1</td>\n",
       "      <td>9534</td>\n",
       "    </tr>\n",
       "    <tr>\n",
       "      <th>31703.0</th>\n",
       "      <td>1</td>\n",
       "      <td>0</td>\n",
       "      <td>9537</td>\n",
       "    </tr>\n",
       "    <tr>\n",
       "      <th>31704.0</th>\n",
       "      <td>12</td>\n",
       "      <td>1</td>\n",
       "      <td>9525</td>\n",
       "    </tr>\n",
       "    <tr>\n",
       "      <th>31705.0</th>\n",
       "      <td>12</td>\n",
       "      <td>2</td>\n",
       "      <td>9517</td>\n",
       "    </tr>\n",
       "    <tr>\n",
       "      <th>31706.0</th>\n",
       "      <td>1</td>\n",
       "      <td>0</td>\n",
       "      <td>9242</td>\n",
       "    </tr>\n",
       "    <tr>\n",
       "      <th>31708.0</th>\n",
       "      <td>1</td>\n",
       "      <td>0</td>\n",
       "      <td>9094</td>\n",
       "    </tr>\n",
       "    <tr>\n",
       "      <th>31710.0</th>\n",
       "      <td>19</td>\n",
       "      <td>1</td>\n",
       "      <td>7779</td>\n",
       "    </tr>\n",
       "    <tr>\n",
       "      <th>31711.0</th>\n",
       "      <td>1</td>\n",
       "      <td>0</td>\n",
       "      <td>7806</td>\n",
       "    </tr>\n",
       "    <tr>\n",
       "      <th>31713.0</th>\n",
       "      <td>1</td>\n",
       "      <td>0</td>\n",
       "      <td>7388</td>\n",
       "    </tr>\n",
       "    <tr>\n",
       "      <th>31800.0</th>\n",
       "      <td>15</td>\n",
       "      <td>0</td>\n",
       "      <td>8550</td>\n",
       "    </tr>\n",
       "    <tr>\n",
       "      <th>31801.0</th>\n",
       "      <td>5</td>\n",
       "      <td>0</td>\n",
       "      <td>9546</td>\n",
       "    </tr>\n",
       "    <tr>\n",
       "      <th>31802.0</th>\n",
       "      <td>15</td>\n",
       "      <td>0</td>\n",
       "      <td>9536</td>\n",
       "    </tr>\n",
       "    <tr>\n",
       "      <th>31803.0</th>\n",
       "      <td>5</td>\n",
       "      <td>0</td>\n",
       "      <td>8621</td>\n",
       "    </tr>\n",
       "    <tr>\n",
       "      <th>31804.0</th>\n",
       "      <td>20</td>\n",
       "      <td>1</td>\n",
       "      <td>9498</td>\n",
       "    </tr>\n",
       "    <tr>\n",
       "      <th>31805.0</th>\n",
       "      <td>16</td>\n",
       "      <td>1</td>\n",
       "      <td>9518</td>\n",
       "    </tr>\n",
       "    <tr>\n",
       "      <th>31806.0</th>\n",
       "      <td>1</td>\n",
       "      <td>0</td>\n",
       "      <td>9094</td>\n",
       "    </tr>\n",
       "    <tr>\n",
       "      <th>31807.0</th>\n",
       "      <td>22</td>\n",
       "      <td>0</td>\n",
       "      <td>8543</td>\n",
       "    </tr>\n",
       "    <tr>\n",
       "      <th>31901.0</th>\n",
       "      <td>19</td>\n",
       "      <td>1</td>\n",
       "      <td>7551</td>\n",
       "    </tr>\n",
       "    <tr>\n",
       "      <th>31902.0</th>\n",
       "      <td>3</td>\n",
       "      <td>0</td>\n",
       "      <td>7567</td>\n",
       "    </tr>\n",
       "    <tr>\n",
       "      <th>31905.0</th>\n",
       "      <td>2</td>\n",
       "      <td>0</td>\n",
       "      <td>7365</td>\n",
       "    </tr>\n",
       "    <tr>\n",
       "      <th>31917.0</th>\n",
       "      <td>3</td>\n",
       "      <td>0</td>\n",
       "      <td>7308</td>\n",
       "    </tr>\n",
       "    <tr>\n",
       "      <th>31919.0</th>\n",
       "      <td>3</td>\n",
       "      <td>0</td>\n",
       "      <td>7267</td>\n",
       "    </tr>\n",
       "    <tr>\n",
       "      <th>31920.0</th>\n",
       "      <td>1</td>\n",
       "      <td>0</td>\n",
       "      <td>7257</td>\n",
       "    </tr>\n",
       "    <tr>\n",
       "      <th>31921.0</th>\n",
       "      <td>1</td>\n",
       "      <td>0</td>\n",
       "      <td>7257</td>\n",
       "    </tr>\n",
       "    <tr>\n",
       "      <th>31923.0</th>\n",
       "      <td>1</td>\n",
       "      <td>0</td>\n",
       "      <td>7257</td>\n",
       "    </tr>\n",
       "    <tr>\n",
       "      <th>31924.0</th>\n",
       "      <td>1</td>\n",
       "      <td>0</td>\n",
       "      <td>7257</td>\n",
       "    </tr>\n",
       "  </tbody>\n",
       "</table>\n",
       "<p>229 rows × 3 columns</p>\n",
       "</div>"
      ],
      "text/plain": [
       "state    empty  full   reg\n",
       "station                   \n",
       "31000.0      4     0  9549\n",
       "31001.0     13     1  9539\n",
       "31003.0     14     2  9537\n",
       "31004.0     34     1  9518\n",
       "31006.0      6     0  9547\n",
       "31007.0      1     0  9552\n",
       "31008.0     28     2  9522\n",
       "31010.0     15     3  9535\n",
       "31012.0      4     2  9547\n",
       "31013.0      3     0  9547\n",
       "31016.0      4     0  9341\n",
       "31017.0      1     0  8628\n",
       "31018.0     31     1  9313\n",
       "31019.0      1     0  9124\n",
       "31020.0     13     1  9102\n",
       "31021.0      2     0  9123\n",
       "31023.0     20     3  8606\n",
       "31025.0     32     1  8596\n",
       "31026.0      2     0  8627\n",
       "31027.0     21     0  8608\n",
       "31028.0      9     1  8619\n",
       "31029.0     18     0  8611\n",
       "31030.0      3     0  7805\n",
       "31031.0     31     1  8597\n",
       "31032.0     20     1  8607\n",
       "31033.0     16     2  7790\n",
       "31034.0     16     3  8610\n",
       "31035.0     36     2  8591\n",
       "31036.0      4     0  8625\n",
       "31038.0     11     2  8616\n",
       "...        ...   ...   ...\n",
       "31641.0      1     0  7476\n",
       "31645.0      8     0  7261\n",
       "31700.0     13     1  9517\n",
       "31701.0     17     1  9253\n",
       "31702.0     13     1  9534\n",
       "31703.0      1     0  9537\n",
       "31704.0     12     1  9525\n",
       "31705.0     12     2  9517\n",
       "31706.0      1     0  9242\n",
       "31708.0      1     0  9094\n",
       "31710.0     19     1  7779\n",
       "31711.0      1     0  7806\n",
       "31713.0      1     0  7388\n",
       "31800.0     15     0  8550\n",
       "31801.0      5     0  9546\n",
       "31802.0     15     0  9536\n",
       "31803.0      5     0  8621\n",
       "31804.0     20     1  9498\n",
       "31805.0     16     1  9518\n",
       "31806.0      1     0  9094\n",
       "31807.0     22     0  8543\n",
       "31901.0     19     1  7551\n",
       "31902.0      3     0  7567\n",
       "31905.0      2     0  7365\n",
       "31917.0      3     0  7308\n",
       "31919.0      3     0  7267\n",
       "31920.0      1     0  7257\n",
       "31921.0      1     0  7257\n",
       "31923.0      1     0  7257\n",
       "31924.0      1     0  7257\n",
       "\n",
       "[229 rows x 3 columns]"
      ]
     },
     "execution_count": 49,
     "metadata": {},
     "output_type": "execute_result"
    }
   ],
   "source": [
    "pd.crosstab(pers_model.station, pers_model.state)"
   ]
  },
  {
   "cell_type": "code",
   "execution_count": 85,
   "metadata": {},
   "outputs": [],
   "source": [
    "## IT'S BAYESIAN TIME!!\n",
    "import pymc3 as pm\n",
    "## setting up the model function\n",
    "def mc(data,rack):\n",
    "    empty = data[(data['state']=='empty')&(data['station']==rack)].avg_rate.values\n",
    "    reg = data[(data['state']=='reg')&(data['station']==rack)].avg_rate.values\n",
    "    p_mean = data[data['station']==rack].avg_rate.mean()\n",
    "    p_std = data[data['station']==rack].avg_rate.std()\n",
    "    std_prior_lower = 0.1\n",
    "    std_prior_upper = 10.0\n",
    "    with pm.Model() as model:\n",
    "\n",
    "        empty_mean = pm.Normal('empty_mean', p_mean, sd=p_std)\n",
    "        reg_mean = pm.Normal('reg_mean',  p_mean, sd=p_std)\n",
    "        empty_std = pm.Uniform('empty_std', lower=std_prior_lower, upper=std_prior_upper)\n",
    "        reg_std = pm.Uniform('reg_std', lower=std_prior_lower, upper=std_prior_upper)\n",
    "        e_post= pm.Normal('E_rate', mu=empty_mean, sd=empty_std, observed=empty)\n",
    "        reg_post = pm.Normal('Reg_rate', mu=reg_mean, sd=reg_std, observed=reg)\n",
    "        diff_of_means = pm.Deterministic('difference of means', empty_mean - reg_mean)\n",
    "        diff_of_stds = pm.Deterministic('difference of stds', empty_std - reg_std)\n",
    "        trace = pm.sample(10000, njobs=4)\n",
    "    return pm.df_summary(trace[3000:],varnames=['difference of means', 'difference of stds'])"
   ]
  },
  {
   "cell_type": "code",
   "execution_count": null,
   "metadata": {},
   "outputs": [
    {
     "name": "stderr",
     "output_type": "stream",
     "text": [
      "Auto-assigning NUTS sampler...\n",
      "Initializing NUTS using ADVI...\n",
      "Average Loss = -2,041.3:  12%|█▏        | 23207/200000 [00:04<00:30, 5833.89it/s]\n",
      "Convergence archived at 23600\n",
      "Interrupted at 23,600 [11%]: Average Loss = 4,571\n"
     ]
    }
   ],
   "source": [
    "start_time=time.time()\n",
    "test= mc(pers_model,31071.0)\n",
    "\n",
    "end_time = time.time()\n",
    "print str((end_time - start_time)/60.) + ' minutes to run'\n"
   ]
  },
  {
   "cell_type": "code",
   "execution_count": 54,
   "metadata": {},
   "outputs": [
    {
     "data": {
      "text/plain": [
       "Index([u'difference of means', u'difference of stds'], dtype='object')"
      ]
     },
     "execution_count": 54,
     "metadata": {},
     "output_type": "execute_result"
    }
   ],
   "source": [
    "test.index"
   ]
  },
  {
   "cell_type": "code",
   "execution_count": 77,
   "metadata": {},
   "outputs": [
    {
     "data": {
      "text/html": [
       "<div>\n",
       "<style>\n",
       "    .dataframe thead tr:only-child th {\n",
       "        text-align: right;\n",
       "    }\n",
       "\n",
       "    .dataframe thead th {\n",
       "        text-align: left;\n",
       "    }\n",
       "\n",
       "    .dataframe tbody tr th {\n",
       "        vertical-align: top;\n",
       "    }\n",
       "</style>\n",
       "<table border=\"1\" class=\"dataframe\">\n",
       "  <thead>\n",
       "    <tr style=\"text-align: right;\">\n",
       "      <th></th>\n",
       "      <th>station</th>\n",
       "      <th>mean_mean</th>\n",
       "      <th>mean_std</th>\n",
       "      <th>mean_mc_error</th>\n",
       "      <th>mean_2.5</th>\n",
       "      <th>mean_97.5</th>\n",
       "      <th>std_mean</th>\n",
       "      <th>std_std</th>\n",
       "      <th>std_mc_error</th>\n",
       "      <th>std_2.5</th>\n",
       "      <th>std_97.5</th>\n",
       "    </tr>\n",
       "  </thead>\n",
       "  <tbody>\n",
       "    <tr>\n",
       "      <th>0</th>\n",
       "      <td>311</td>\n",
       "      <td>0.000376732</td>\n",
       "      <td>0.080423</td>\n",
       "      <td>0.000333467</td>\n",
       "      <td>-0.158385</td>\n",
       "      <td>0.155453</td>\n",
       "      <td>0.0118422</td>\n",
       "      <td>4.03261</td>\n",
       "      <td>0.0224794</td>\n",
       "      <td>-7.91518</td>\n",
       "      <td>7.40799</td>\n",
       "    </tr>\n",
       "  </tbody>\n",
       "</table>\n",
       "</div>"
      ],
      "text/plain": [
       "  station    mean_mean  mean_std mean_mc_error  mean_2.5 mean_97.5   std_mean  \\\n",
       "0     311  0.000376732  0.080423   0.000333467 -0.158385  0.155453  0.0118422   \n",
       "\n",
       "   std_std std_mc_error  std_2.5 std_97.5  \n",
       "0  4.03261    0.0224794 -7.91518  7.40799  "
      ]
     },
     "execution_count": 77,
     "metadata": {},
     "output_type": "execute_result"
    }
   ],
   "source": [
    "days_bayes_df = pd.DataFrame(columns = ['station','mean_mean', 'mean_std', 'mean_mc_error', 'mean_2.5', 'mean_97.5','std_mean', 'std_std', 'std_mc_error', 'std_2.5', 'std_97.5'])\n",
    "rw = len(test_df)\n",
    "test_df.loc[rw,'station']=311\n",
    "test_df.loc[rw,1:6]=[x for x in test.loc['difference of means']]\n",
    "test_df.loc[rw,6:]=[y for y in test.loc['difference of stds']]\n",
    "#test_df.loc[len(test_df)]=test.iloc[1,:]\n",
    "test_df"
   ]
  },
  {
   "cell_type": "code",
   "execution_count": 54,
   "metadata": {},
   "outputs": [
    {
     "name": "stdout",
     "output_type": "stream",
     "text": [
      "53\n",
      "229\n"
     ]
    }
   ],
   "source": [
    "racks_d = set(days_model.station)\n",
    "print len(racks_d)\n",
    "racks_p = set(pers_model.station)\n",
    "print len(racks_p)\n",
    "days_bayes_df = pd.DataFrame(columns = ['station','mean_mean', 'mean_std', 'mean_mc_error', 'mean_2.5', 'mean_97.5','std_mean', 'std_std', 'std_mc_error', 'std_2.5', 'std_97.5'])\n",
    "periods_bayes_df = pd.DataFrame(columns = ['station','mean_mean', 'mean_std', 'mean_mc_error', 'mean_2.5', 'mean_97.5','std_mean', 'std_std', 'std_mc_error', 'std_2.5', 'std_97.5'])"
   ]
  },
  {
   "cell_type": "code",
   "execution_count": 55,
   "metadata": {
    "scrolled": true
   },
   "outputs": [
    {
     "name": "stderr",
     "output_type": "stream",
     "text": [
      "Auto-assigning NUTS sampler...\n",
      "Initializing NUTS using ADVI...\n",
      "Average Loss = 199.17:  13%|█▎        | 26888/200000 [00:02<00:19, 8710.28it/s] \n",
      "Convergence archived at 27400\n",
      "Interrupted at 27,400 [13%]: Average Loss = 1,447.4\n",
      " 95%|█████████▌| 9993/10500 [00:30<00:02, 238.79it/s]/Users/irarickman/anaconda2/lib/python2.7/site-packages/pymc3/step_methods/hmc/nuts.py:456: UserWarning: Chain 1 contains 1 diverging samples after tuning. If increasing `target_accept` does not help try to reparameterize.\n",
      "  % (self._chain_id, n_diverging))\n",
      "100%|██████████| 10500/10500 [00:32<00:00, 320.32it/s]\n",
      "Auto-assigning NUTS sampler...\n",
      "Initializing NUTS using ADVI...\n",
      "Average Loss = -1,328.6:  11%|█         | 22352/200000 [00:02<00:20, 8548.74it/s]\n",
      "Convergence archived at 22400\n",
      "Interrupted at 22,400 [11%]: Average Loss = 1,199.1\n",
      "100%|██████████| 10500/10500 [00:45<00:00, 232.86it/s]\n",
      "Auto-assigning NUTS sampler...\n",
      "Initializing NUTS using ADVI...\n",
      "Average Loss = -1,747.9:  11%|█         | 22122/200000 [00:02<00:17, 10436.47it/s]\n",
      "Convergence archived at 22400\n",
      "Interrupted at 22,400 [11%]: Average Loss = 932.45\n",
      "100%|██████████| 10500/10500 [01:09<00:00, 151.60it/s]\n",
      "Auto-assigning NUTS sampler...\n",
      "Initializing NUTS using ADVI...\n",
      "Average Loss = -1,666.5:  10%|▉         | 19212/200000 [00:02<00:19, 9101.90it/s]\n",
      "Convergence archived at 19400\n",
      "Interrupted at 19,400 [9%]: Average Loss = 1,487.1\n",
      "100%|██████████| 10500/10500 [01:13<00:00, 142.11it/s]\n",
      "Auto-assigning NUTS sampler...\n",
      "Initializing NUTS using ADVI...\n",
      "Average Loss = -1,256.2:  14%|█▎        | 27297/200000 [00:02<00:17, 9791.37it/s] \n",
      "Convergence archived at 27900\n",
      "Interrupted at 27,900 [13%]: Average Loss = 699.69\n",
      "100%|██████████| 10500/10500 [00:27<00:00, 375.28it/s]\n",
      "Auto-assigning NUTS sampler...\n",
      "Initializing NUTS using ADVI...\n",
      "Average Loss = 147.6:  10%|▉         | 19954/200000 [00:02<00:21, 8236.54it/s] \n",
      "Convergence archived at 20200\n",
      "Interrupted at 20,200 [10%]: Average Loss = 534.97\n",
      "100%|██████████| 10500/10500 [00:28<00:00, 371.50it/s]\n",
      "Auto-assigning NUTS sampler...\n",
      "Initializing NUTS using ADVI...\n",
      "Average Loss = -190.77:  12%|█▏        | 23950/200000 [00:03<00:24, 7049.65it/s]\n",
      "Convergence archived at 24500\n",
      "Interrupted at 24,500 [12%]: Average Loss = 350.48\n",
      "100%|██████████| 10500/10500 [00:27<00:00, 380.29it/s]\n",
      "Auto-assigning NUTS sampler...\n",
      "Initializing NUTS using ADVI...\n",
      "Average Loss = -511.01:  12%|█▏        | 23751/200000 [00:02<00:18, 9693.58it/s] \n",
      "Convergence archived at 24700\n",
      "Interrupted at 24,700 [12%]: Average Loss = 1,197.7\n",
      "100%|██████████| 10500/10500 [00:28<00:00, 369.89it/s]\n",
      "Auto-assigning NUTS sampler...\n",
      "Initializing NUTS using ADVI...\n",
      "Average Loss = 177.88:   9%|▉         | 18523/200000 [00:01<00:17, 10085.86it/s]\n",
      "Convergence archived at 19400\n",
      "Interrupted at 19,400 [9%]: Average Loss = 654.95\n",
      "100%|██████████| 10500/10500 [00:28<00:00, 374.41it/s]\n",
      "Auto-assigning NUTS sampler...\n",
      "Initializing NUTS using ADVI...\n",
      "Average Loss = 44.919:  11%|█         | 21372/200000 [00:01<00:15, 11519.32it/s]\n",
      "Convergence archived at 22400\n",
      "Interrupted at 22,400 [11%]: Average Loss = 465.86\n",
      "100%|██████████| 10500/10500 [00:23<00:00, 438.38it/s]\n"
     ]
    },
    {
     "name": "stdout",
     "output_type": "stream",
     "text": [
      "10 -  after 10.2419095 minutes\n"
     ]
    },
    {
     "name": "stderr",
     "output_type": "stream",
     "text": [
      "Auto-assigning NUTS sampler...\n",
      "Initializing NUTS using ADVI...\n",
      "Average Loss = -4.1132:  11%|█▏        | 22775/200000 [00:02<00:15, 11565.18it/s]\n",
      "Convergence archived at 23300\n",
      "Interrupted at 23,300 [11%]: Average Loss = 372.83\n",
      "100%|██████████| 10500/10500 [00:26<00:00, 403.73it/s]\n",
      "Auto-assigning NUTS sampler...\n",
      "Initializing NUTS using ADVI...\n",
      "Average Loss = -2,936.4:  21%|██        | 41523/200000 [00:04<00:16, 9756.68it/s]\n",
      "Convergence archived at 42300\n",
      "Interrupted at 42,300 [21%]: Average Loss = -938.2\n",
      "100%|██████████| 10500/10500 [00:26<00:00, 390.59it/s]\n",
      "Auto-assigning NUTS sampler...\n",
      "Initializing NUTS using ADVI...\n",
      "Average Loss = -2,908.8:  21%|██        | 41861/200000 [00:04<00:17, 9272.24it/s] \n",
      "Convergence archived at 42300\n",
      "Interrupted at 42,300 [21%]: Average Loss = -929.15\n",
      "100%|██████████| 10500/10500 [00:35<00:00, 293.26it/s]\n",
      "Auto-assigning NUTS sampler...\n",
      "Initializing NUTS using ADVI...\n",
      "Average Loss = -203.5:  10%|█         | 20997/200000 [00:02<00:20, 8742.65it/s] \n",
      "Convergence archived at 21500\n",
      "Interrupted at 21,500 [10%]: Average Loss = 1,624.6\n",
      "100%|██████████| 10500/10500 [00:43<00:00, 240.11it/s]\n",
      "Auto-assigning NUTS sampler...\n",
      "Initializing NUTS using ADVI...\n",
      "Average Loss = 142.9:   9%|▉         | 18117/200000 [00:02<00:28, 6459.64it/s] \n",
      "Convergence archived at 18700\n",
      "Interrupted at 18,700 [9%]: Average Loss = 482.35\n",
      "100%|██████████| 10500/10500 [00:30<00:00, 344.53it/s]\n",
      "Auto-assigning NUTS sampler...\n",
      "Initializing NUTS using ADVI...\n",
      "Average Loss = -2,871.2:  21%|██        | 41693/200000 [00:04<00:16, 9342.03it/s]\n",
      "Convergence archived at 42300\n",
      "Interrupted at 42,300 [21%]: Average Loss = -910.1\n",
      "100%|██████████| 10500/10500 [00:27<00:00, 380.91it/s]\n",
      "Auto-assigning NUTS sampler...\n",
      "Initializing NUTS using ADVI...\n",
      "Average Loss = -1,628.5:  10%|▉         | 19033/200000 [00:01<00:18, 9952.95it/s] \n",
      "Convergence archived at 19400\n",
      "Interrupted at 19,400 [9%]: Average Loss = 1,488.3\n",
      "100%|██████████| 10500/10500 [01:12<00:00, 144.81it/s]\n",
      "Auto-assigning NUTS sampler...\n",
      "Initializing NUTS using ADVI...\n",
      "Average Loss = -1,543.4:  13%|█▎        | 26416/200000 [00:02<00:17, 9758.37it/s] \n",
      "Convergence archived at 27300\n",
      "Interrupted at 27,300 [13%]: Average Loss = 641.03\n",
      "100%|██████████| 10500/10500 [00:38<00:00, 276.02it/s]\n",
      "Auto-assigning NUTS sampler...\n",
      "Initializing NUTS using ADVI...\n",
      "Average Loss = -1,252.7:  12%|█▏        | 24313/200000 [00:02<00:17, 10314.34it/s]\n",
      "Convergence archived at 24500\n",
      "Interrupted at 24,500 [12%]: Average Loss = 492.34\n",
      "100%|██████████| 10500/10500 [00:44<00:00, 235.70it/s]\n",
      "Auto-assigning NUTS sampler...\n",
      "Initializing NUTS using ADVI...\n",
      "Average Loss = -987.14:  14%|█▎        | 27383/200000 [00:03<00:18, 9179.83it/s]\n",
      "Convergence archived at 27900\n",
      "Interrupted at 27,900 [13%]: Average Loss = 818.98\n",
      "100%|██████████| 10500/10500 [00:28<00:00, 367.90it/s]\n"
     ]
    },
    {
     "name": "stdout",
     "output_type": "stream",
     "text": [
      "20 -  after 20.1204869151 minutes\n"
     ]
    },
    {
     "name": "stderr",
     "output_type": "stream",
     "text": [
      "Auto-assigning NUTS sampler...\n",
      "Initializing NUTS using ADVI...\n",
      "Average Loss = -279.98:  10%|█         | 20692/200000 [00:01<00:16, 10885.21it/s]\n",
      "Convergence archived at 21500\n",
      "Interrupted at 21,500 [10%]: Average Loss = 345.28\n",
      "100%|██████████| 10500/10500 [00:28<00:00, 369.37it/s]\n",
      "Auto-assigning NUTS sampler...\n",
      "Initializing NUTS using ADVI...\n",
      "Average Loss = -369.42:  14%|█▎        | 27196/200000 [00:03<00:20, 8606.51it/s]\n",
      "Convergence archived at 27900\n",
      "Interrupted at 27,900 [13%]: Average Loss = 1,110.2\n",
      "100%|██████████| 10500/10500 [00:31<00:00, 330.15it/s]\n",
      "Auto-assigning NUTS sampler...\n",
      "Initializing NUTS using ADVI...\n",
      "Average Loss = -219.8:  11%|█         | 21193/200000 [00:01<00:15, 11339.69it/s] \n",
      "Convergence archived at 22100\n",
      "Interrupted at 22,100 [11%]: Average Loss = 398.54\n",
      "100%|██████████| 10500/10500 [00:25<00:00, 410.83it/s]\n",
      "Auto-assigning NUTS sampler...\n",
      "Initializing NUTS using ADVI...\n",
      "Average Loss = -2,905.9:  21%|██        | 42138/200000 [00:04<00:17, 9224.76it/s]\n",
      "Convergence archived at 42300\n",
      "Interrupted at 42,300 [21%]: Average Loss = -926.26\n",
      "100%|██████████| 10500/10500 [00:33<00:00, 314.63it/s]\n",
      "Auto-assigning NUTS sampler...\n",
      "Initializing NUTS using ADVI...\n",
      "Average Loss = -2,853.6:  21%|██        | 41684/200000 [00:04<00:17, 9194.32it/s]\n",
      "Convergence archived at 42300\n",
      "Interrupted at 42,300 [21%]: Average Loss = -896.39\n",
      "100%|██████████| 10500/10500 [00:33<00:00, 310.68it/s]\n",
      "Auto-assigning NUTS sampler...\n",
      "Initializing NUTS using ADVI...\n",
      "Average Loss = -537.89:  12%|█▏        | 24630/200000 [00:02<00:17, 10146.15it/s]\n",
      "Convergence archived at 24700\n",
      "Interrupted at 24,700 [12%]: Average Loss = 185.25\n",
      "100%|██████████| 10500/10500 [00:43<00:00, 242.69it/s]\n",
      "Auto-assigning NUTS sampler...\n",
      "Initializing NUTS using ADVI...\n",
      "Average Loss = -1,641.4:  12%|█▏        | 24982/200000 [00:02<00:18, 9307.91it/s]\n",
      "Convergence archived at 25100\n",
      "Interrupted at 25,100 [12%]: Average Loss = 765.24\n",
      "100%|██████████| 10500/10500 [00:33<00:00, 315.46it/s]\n",
      "Auto-assigning NUTS sampler...\n",
      "Initializing NUTS using ADVI...\n",
      "Average Loss = -1,913.3:  11%|█         | 21804/200000 [00:02<00:18, 9442.58it/s]\n",
      "Convergence archived at 22400\n",
      "Interrupted at 22,400 [11%]: Average Loss = 957.4\n",
      "100%|██████████| 10500/10500 [01:36<00:00, 108.76it/s]\n",
      "Auto-assigning NUTS sampler...\n",
      "Initializing NUTS using ADVI...\n",
      "Average Loss = -1,651:   9%|▉         | 17751/200000 [00:03<00:43, 4153.40it/s]  \n",
      "Convergence archived at 18100\n",
      "Interrupted at 18,100 [9%]: Average Loss = 1,592.8\n",
      "100%|██████████| 10500/10500 [03:23<00:00, 51.56it/s]\n",
      "Auto-assigning NUTS sampler...\n",
      "Initializing NUTS using ADVI...\n",
      "Average Loss = -952.96:  11%|█         | 22053/200000 [00:03<00:26, 6751.26it/s]\n",
      "Convergence archived at 22400\n",
      "Interrupted at 22,400 [11%]: Average Loss = 1,348.3\n",
      "100%|██████████| 10500/10500 [00:49<00:00, 211.22it/s]\n"
     ]
    },
    {
     "name": "stdout",
     "output_type": "stream",
     "text": [
      "30 -  after 33.4689278841 minutes\n"
     ]
    },
    {
     "name": "stderr",
     "output_type": "stream",
     "text": [
      "Auto-assigning NUTS sampler...\n",
      "Initializing NUTS using ADVI...\n",
      "Average Loss = -958.07:  14%|█▎        | 27455/200000 [00:03<00:32, 5348.73it/s]\n",
      "Convergence archived at 27900\n",
      "Interrupted at 27,900 [13%]: Average Loss = 792.47\n",
      "100%|██████████| 10500/10500 [00:28<00:00, 365.42it/s]\n",
      "Auto-assigning NUTS sampler...\n",
      "Initializing NUTS using ADVI...\n",
      "Average Loss = -3,006.3:  21%|██        | 41591/200000 [00:04<00:15, 9982.62it/s]\n",
      "Convergence archived at 42300\n",
      "Interrupted at 42,300 [21%]: Average Loss = -1,001.2\n",
      "100%|██████████| 10500/10500 [00:29<00:00, 359.02it/s]\n",
      "Auto-assigning NUTS sampler...\n",
      "Initializing NUTS using ADVI...\n",
      "Average Loss = -1,734.1:  10%|▉         | 19283/200000 [00:02<00:19, 9214.30it/s]\n",
      "Convergence archived at 19400\n",
      "Interrupted at 19,400 [9%]: Average Loss = 1,351.5\n",
      "100%|██████████| 10500/10500 [02:41<00:00, 62.08it/s]\n",
      "Auto-assigning NUTS sampler...\n",
      "Initializing NUTS using ADVI...\n",
      "Average Loss = -1,294:  14%|█▍        | 27687/200000 [00:03<00:23, 7399.88it/s]  \n",
      "Convergence archived at 27900\n",
      "Interrupted at 27,900 [13%]: Average Loss = 626.69\n",
      "100%|██████████| 10500/10500 [00:30<00:00, 349.60it/s]\n",
      "Auto-assigning NUTS sampler...\n",
      "Initializing NUTS using ADVI...\n",
      "Average Loss = -1,001.4:  14%|█▍        | 27695/200000 [00:03<00:23, 7412.12it/s]\n",
      "Convergence archived at 27900\n",
      "Interrupted at 27,900 [13%]: Average Loss = 758.12\n",
      "100%|██████████| 10500/10500 [00:34<00:00, 304.82it/s]\n",
      "Auto-assigning NUTS sampler...\n",
      "Initializing NUTS using ADVI...\n",
      "Average Loss = -330.42:  14%|█▎        | 27046/200000 [00:03<00:22, 7665.40it/s]\n",
      "Convergence archived at 27900\n",
      "Interrupted at 27,900 [13%]: Average Loss = 1,208.9\n",
      "100%|██████████| 10500/10500 [00:36<00:00, 289.09it/s]\n",
      "Auto-assigning NUTS sampler...\n",
      "Initializing NUTS using ADVI...\n",
      "Average Loss = -1,760.5:  14%|█▍        | 28637/200000 [00:03<00:17, 9699.88it/s] \n",
      "Convergence archived at 29500\n",
      "Interrupted at 29,500 [14%]: Average Loss = 320.6\n",
      "100%|██████████| 10500/10500 [00:31<00:00, 335.12it/s]\n",
      "Auto-assigning NUTS sampler...\n",
      "Initializing NUTS using ADVI...\n",
      "Average Loss = -1,370.6:  12%|█▏        | 24196/200000 [00:02<00:17, 9770.68it/s]\n",
      "Convergence archived at 24500\n",
      "Interrupted at 24,500 [12%]: Average Loss = 957.92\n",
      "100%|██████████| 10500/10500 [00:33<00:00, 311.70it/s]\n",
      "Auto-assigning NUTS sampler...\n",
      "Initializing NUTS using ADVI...\n",
      "Average Loss = -1,334.6:  12%|█▏        | 23965/200000 [00:02<00:18, 9340.09it/s]\n",
      "Convergence archived at 24700\n",
      "Interrupted at 24,700 [12%]: Average Loss = 877.51\n",
      "100%|██████████| 10500/10500 [00:33<00:00, 315.93it/s]\n",
      "Auto-assigning NUTS sampler...\n",
      "Initializing NUTS using ADVI...\n",
      "Average Loss = -191.97:  13%|█▎        | 25549/200000 [00:02<00:17, 10127.70it/s]\n",
      "Convergence archived at 26100\n",
      "Interrupted at 26,100 [13%]: Average Loss = 829\n",
      "100%|██████████| 10500/10500 [00:30<00:00, 340.74it/s]\n"
     ]
    },
    {
     "name": "stdout",
     "output_type": "stream",
     "text": [
      "40 -  after 44.858695066 minutes\n"
     ]
    },
    {
     "name": "stderr",
     "output_type": "stream",
     "text": [
      "Auto-assigning NUTS sampler...\n",
      "Initializing NUTS using ADVI...\n",
      "Average Loss = -184.55:  11%|█         | 21717/200000 [00:02<00:20, 8873.99it/s]\n",
      "Convergence archived at 22400\n",
      "Interrupted at 22,400 [11%]: Average Loss = 1,552\n",
      "100%|██████████| 10500/10500 [00:41<00:00, 253.15it/s]\n",
      "Auto-assigning NUTS sampler...\n",
      "Initializing NUTS using ADVI...\n",
      "Average Loss = -2,376.7:  15%|█▍        | 29899/200000 [00:03<00:19, 8606.03it/s]\n",
      "Convergence archived at 30200\n",
      "Interrupted at 30,200 [15%]: Average Loss = 41.575\n",
      "100%|██████████| 10500/10500 [00:48<00:00, 215.77it/s]\n",
      "Auto-assigning NUTS sampler...\n",
      "Initializing NUTS using ADVI...\n",
      "Average Loss = -1,104.9:  11%|█         | 21499/200000 [00:02<00:19, 9326.69it/s]\n",
      "Convergence archived at 22400\n",
      "Interrupted at 22,400 [11%]: Average Loss = 1,201.4\n",
      "100%|██████████| 10500/10500 [00:50<00:00, 127.32it/s]\n",
      "Auto-assigning NUTS sampler...\n",
      "Initializing NUTS using ADVI...\n",
      "Average Loss = -1,306.4:  11%|█         | 21890/200000 [00:02<00:20, 8518.65it/s]\n",
      "Convergence archived at 22400\n",
      "Interrupted at 22,400 [11%]: Average Loss = 1,213.9\n",
      "100%|██████████| 10500/10500 [00:51<00:00, 203.08it/s]\n",
      "Auto-assigning NUTS sampler...\n",
      "Initializing NUTS using ADVI...\n",
      "Average Loss = -1,888.1:  11%|█         | 22050/200000 [00:02<00:21, 8122.39it/s]\n",
      "Convergence archived at 22400\n",
      "Interrupted at 22,400 [11%]: Average Loss = 935.63\n",
      "100%|██████████| 10500/10500 [01:33<00:00, 112.48it/s]\n",
      "Auto-assigning NUTS sampler...\n",
      "Initializing NUTS using ADVI...\n",
      "Average Loss = -1,094:  14%|█▍        | 27812/200000 [00:03<00:20, 8315.97it/s]  \n",
      "Convergence archived at 27900\n",
      "Interrupted at 27,900 [13%]: Average Loss = 771.09\n",
      "100%|██████████| 10500/10500 [00:30<00:00, 346.38it/s]\n",
      "Auto-assigning NUTS sampler...\n",
      "Initializing NUTS using ADVI...\n",
      "Average Loss = -1,547.3:  14%|█▍        | 27645/200000 [00:03<00:24, 7110.21it/s]\n",
      "Convergence archived at 27900\n",
      "Interrupted at 27,900 [13%]: Average Loss = 550.49\n",
      "100%|██████████| 10500/10500 [00:30<00:00, 342.48it/s]\n",
      "Auto-assigning NUTS sampler...\n",
      "Initializing NUTS using ADVI...\n",
      "Average Loss = -2,346.7:  11%|█         | 22282/200000 [00:02<00:19, 9136.19it/s]\n",
      "Convergence archived at 22400\n",
      "Interrupted at 22,400 [11%]: Average Loss = 875.8\n",
      "100%|██████████| 10500/10500 [01:35<00:00, 109.88it/s]\n",
      "Auto-assigning NUTS sampler...\n",
      "Initializing NUTS using ADVI...\n",
      "Average Loss = -888.3:  14%|█▎        | 27322/200000 [00:03<00:19, 9004.97it/s] \n",
      "Convergence archived at 27900\n",
      "Interrupted at 27,900 [13%]: Average Loss = 892\n",
      "100%|██████████| 10500/10500 [00:31<00:00, 329.83it/s]\n",
      "Auto-assigning NUTS sampler...\n",
      "Initializing NUTS using ADVI...\n",
      "Average Loss = -992.24:  11%|█         | 21460/200000 [00:02<00:19, 9231.85it/s]\n",
      "Convergence archived at 22400\n",
      "Interrupted at 22,400 [11%]: Average Loss = 1,222.4\n",
      "100%|██████████| 10500/10500 [00:43<00:00, 239.08it/s]\n"
     ]
    },
    {
     "name": "stdout",
     "output_type": "stream",
     "text": [
      "50 -  after 57.5774330815 minutes\n"
     ]
    },
    {
     "name": "stderr",
     "output_type": "stream",
     "text": [
      "Auto-assigning NUTS sampler...\n",
      "Initializing NUTS using ADVI...\n",
      "Average Loss = -1,366.5:  14%|█▍        | 27817/200000 [00:03<00:21, 8129.61it/s]\n",
      "Convergence archived at 28600\n",
      "Interrupted at 28,600 [14%]: Average Loss = 582.45\n",
      "100%|██████████| 10500/10500 [00:32<00:00, 323.46it/s]\n",
      "Auto-assigning NUTS sampler...\n",
      "Initializing NUTS using ADVI...\n",
      "Average Loss = -712.83:  12%|█▏        | 24261/200000 [00:02<00:18, 9360.44it/s]\n",
      "Convergence archived at 25100\n",
      "Interrupted at 25,100 [12%]: Average Loss = 1,089.3\n",
      "100%|██████████| 10500/10500 [00:29<00:00, 357.98it/s]\n",
      "Auto-assigning NUTS sampler...\n",
      "Initializing NUTS using ADVI...\n",
      "Average Loss = -864.14:  11%|█         | 22277/200000 [00:02<00:22, 7922.94it/s]\n",
      "Convergence archived at 22400\n",
      "Interrupted at 22,400 [11%]: Average Loss = 1,332.8\n",
      "100%|██████████| 10500/10500 [00:42<00:00, 247.78it/s]\n"
     ]
    },
    {
     "name": "stdout",
     "output_type": "stream",
     "text": [
      "60.6177325169 minutes to run\n"
     ]
    }
   ],
   "source": [
    "start_time=time.time()\n",
    "count=0\n",
    "for d in racks_d:\n",
    "    temp = mc(days_model, d)\n",
    "    rw =len(days_bayes_df)\n",
    "    days_bayes_df.loc[rw,'station']=d\n",
    "    days_bayes_df.loc[rw,1:6]=[x for x in temp.loc['difference of means']]\n",
    "    days_bayes_df.loc[rw,6:]=[x for x in temp.loc['difference of stds']]\n",
    "    count+=1\n",
    "    if count%10==0:\n",
    "        days_bayes_df.to_csv(str(count) + ' stations.csv', index=False)\n",
    "        end_time = time.time()\n",
    "        print str(count) + ' -  after ' + str((end_time - start_time)/60.) + ' minutes'\n",
    "end_time = time.time()\n",
    "print str((end_time - start_time)/60.) + ' minutes to run'"
   ]
  },
  {
   "cell_type": "code",
   "execution_count": 56,
   "metadata": {
    "collapsed": true
   },
   "outputs": [],
   "source": [
    "days_bayes_df.to_csv('final_bayes_model_stations_9-6-1500.csv', index=False)"
   ]
  },
  {
   "cell_type": "code",
   "execution_count": 83,
   "metadata": {},
   "outputs": [
    {
     "data": {
      "text/plain": [
       "80"
      ]
     },
     "execution_count": 83,
     "metadata": {},
     "output_type": "execute_result"
    }
   ],
   "source": [
    "done = pd.read_csv('148_periods_stations.csv')\n",
    "done_stats = set(done.station)\n",
    "to_do_p = [x for x in racks_p if x not in done_stats]\n",
    "len(to_do_p)"
   ]
  },
  {
   "cell_type": "markdown",
   "metadata": {},
   "source": [
    "excludes 0 from 95% HPD so we can conclude it's different"
   ]
  },
  {
   "cell_type": "code",
   "execution_count": null,
   "metadata": {
    "scrolled": true
   },
   "outputs": [],
   "source": [
    "## running on the period data set\n",
    "start_time=time.time()\n",
    "count=0\n",
    "for p in racks_p:\n",
    "    temp = mc(pers_model, p)\n",
    "    rw =len(periods_bayes_df)\n",
    "    periods_bayes_df.loc[rw,'station']=p\n",
    "    periods_bayes_df.loc[rw,1:6]=[x for x in temp.loc['difference of means']]\n",
    "    periods_bayes_df.loc[rw,6:]=[x for x in temp.loc['difference of stds']]\n",
    "    count+=1\n",
    "    if count%10==0:\n",
    "        periods_bayes_df.to_csv(str(count) + ' _periods_stations.csv', index=False)\n",
    "        end_time = time.time()\n",
    "        print str(count) + ' -  after ' + str((end_time - start_time)/60.) + ' minutes'\n",
    "end_time = time.time()\n",
    "print str((end_time - start_time)/60.) + ' minutes to run'"
   ]
  },
  {
   "cell_type": "code",
   "execution_count": 87,
   "metadata": {
    "scrolled": true
   },
   "outputs": [
    {
     "name": "stderr",
     "output_type": "stream",
     "text": [
      "INFO (theano.gof.compilelock): Refreshing lock /Users/irarickman/.theano/compiledir_Darwin-16.7.0-x86_64-i386-64bit-i386-2.7.13-64/lock_dir/lock\n"
     ]
    },
    {
     "name": "stdout",
     "output_type": "stream",
     "text": [
      "31073.0\n"
     ]
    },
    {
     "ename": "AssertionError",
     "evalue": "",
     "output_type": "error",
     "traceback": [
      "\u001b[0;31m---------------------------------------------------------------------------\u001b[0m",
      "\u001b[0;31mAssertionError\u001b[0m                            Traceback (most recent call last)",
      "\u001b[0;32m<ipython-input-87-7ff04a34a2a5>\u001b[0m in \u001b[0;36m<module>\u001b[0;34m()\u001b[0m\n\u001b[1;32m      5\u001b[0m \u001b[0;32mfor\u001b[0m \u001b[0mp\u001b[0m \u001b[0;32min\u001b[0m \u001b[0mto_do_p\u001b[0m\u001b[0;34m:\u001b[0m\u001b[0;34m\u001b[0m\u001b[0m\n\u001b[1;32m      6\u001b[0m     \u001b[0;32mprint\u001b[0m \u001b[0mp\u001b[0m\u001b[0;34m\u001b[0m\u001b[0m\n\u001b[0;32m----> 7\u001b[0;31m     \u001b[0mtemp\u001b[0m \u001b[0;34m=\u001b[0m \u001b[0mmc\u001b[0m\u001b[0;34m(\u001b[0m\u001b[0mpers_model\u001b[0m\u001b[0;34m,\u001b[0m \u001b[0mp\u001b[0m\u001b[0;34m)\u001b[0m\u001b[0;34m\u001b[0m\u001b[0m\n\u001b[0m\u001b[1;32m      8\u001b[0m     \u001b[0mrw\u001b[0m \u001b[0;34m=\u001b[0m\u001b[0mlen\u001b[0m\u001b[0;34m(\u001b[0m\u001b[0mperiods_bayes_df\u001b[0m\u001b[0;34m)\u001b[0m\u001b[0;34m\u001b[0m\u001b[0m\n\u001b[1;32m      9\u001b[0m     \u001b[0mperiods_bayes_df\u001b[0m\u001b[0;34m.\u001b[0m\u001b[0mloc\u001b[0m\u001b[0;34m[\u001b[0m\u001b[0mrw\u001b[0m\u001b[0;34m,\u001b[0m\u001b[0;34m'station'\u001b[0m\u001b[0;34m]\u001b[0m\u001b[0;34m=\u001b[0m\u001b[0mp\u001b[0m\u001b[0;34m\u001b[0m\u001b[0m\n",
      "\u001b[0;32m<ipython-input-85-322b6ad94c1d>\u001b[0m in \u001b[0;36mmc\u001b[0;34m(data, rack)\u001b[0m\n\u001b[1;32m     11\u001b[0m     \u001b[0;32mwith\u001b[0m \u001b[0mpm\u001b[0m\u001b[0;34m.\u001b[0m\u001b[0mModel\u001b[0m\u001b[0;34m(\u001b[0m\u001b[0;34m)\u001b[0m \u001b[0;32mas\u001b[0m \u001b[0mmodel\u001b[0m\u001b[0;34m:\u001b[0m\u001b[0;34m\u001b[0m\u001b[0m\n\u001b[1;32m     12\u001b[0m \u001b[0;34m\u001b[0m\u001b[0m\n\u001b[0;32m---> 13\u001b[0;31m         \u001b[0mempty_mean\u001b[0m \u001b[0;34m=\u001b[0m \u001b[0mpm\u001b[0m\u001b[0;34m.\u001b[0m\u001b[0mNormal\u001b[0m\u001b[0;34m(\u001b[0m\u001b[0;34m'empty_mean'\u001b[0m\u001b[0;34m,\u001b[0m \u001b[0mp_mean\u001b[0m\u001b[0;34m,\u001b[0m \u001b[0msd\u001b[0m\u001b[0;34m=\u001b[0m\u001b[0mp_std\u001b[0m\u001b[0;34m)\u001b[0m\u001b[0;34m\u001b[0m\u001b[0m\n\u001b[0m\u001b[1;32m     14\u001b[0m         \u001b[0mreg_mean\u001b[0m \u001b[0;34m=\u001b[0m \u001b[0mpm\u001b[0m\u001b[0;34m.\u001b[0m\u001b[0mNormal\u001b[0m\u001b[0;34m(\u001b[0m\u001b[0;34m'reg_mean'\u001b[0m\u001b[0;34m,\u001b[0m  \u001b[0mp_mean\u001b[0m\u001b[0;34m,\u001b[0m \u001b[0msd\u001b[0m\u001b[0;34m=\u001b[0m\u001b[0mp_std\u001b[0m\u001b[0;34m)\u001b[0m\u001b[0;34m\u001b[0m\u001b[0m\n\u001b[1;32m     15\u001b[0m         \u001b[0mempty_std\u001b[0m \u001b[0;34m=\u001b[0m \u001b[0mpm\u001b[0m\u001b[0;34m.\u001b[0m\u001b[0mUniform\u001b[0m\u001b[0;34m(\u001b[0m\u001b[0;34m'empty_std'\u001b[0m\u001b[0;34m,\u001b[0m \u001b[0mlower\u001b[0m\u001b[0;34m=\u001b[0m\u001b[0mstd_prior_lower\u001b[0m\u001b[0;34m,\u001b[0m \u001b[0mupper\u001b[0m\u001b[0;34m=\u001b[0m\u001b[0mstd_prior_upper\u001b[0m\u001b[0;34m)\u001b[0m\u001b[0;34m\u001b[0m\u001b[0m\n",
      "\u001b[0;32m/Users/irarickman/anaconda2/lib/python2.7/site-packages/pymc3/distributions/distribution.pyc\u001b[0m in \u001b[0;36m__new__\u001b[0;34m(cls, name, *args, **kwargs)\u001b[0m\n\u001b[1;32m     36\u001b[0m                 \u001b[0;32mraise\u001b[0m \u001b[0mTypeError\u001b[0m\u001b[0;34m(\u001b[0m\u001b[0;34m\"observed needs to be data but got: {}\"\u001b[0m\u001b[0;34m.\u001b[0m\u001b[0mformat\u001b[0m\u001b[0;34m(\u001b[0m\u001b[0mtype\u001b[0m\u001b[0;34m(\u001b[0m\u001b[0mdata\u001b[0m\u001b[0;34m)\u001b[0m\u001b[0;34m)\u001b[0m\u001b[0;34m)\u001b[0m\u001b[0;34m\u001b[0m\u001b[0m\n\u001b[1;32m     37\u001b[0m             \u001b[0mtotal_size\u001b[0m \u001b[0;34m=\u001b[0m \u001b[0mkwargs\u001b[0m\u001b[0;34m.\u001b[0m\u001b[0mpop\u001b[0m\u001b[0;34m(\u001b[0m\u001b[0;34m'total_size'\u001b[0m\u001b[0;34m,\u001b[0m \u001b[0mNone\u001b[0m\u001b[0;34m)\u001b[0m\u001b[0;34m\u001b[0m\u001b[0m\n\u001b[0;32m---> 38\u001b[0;31m             \u001b[0mdist\u001b[0m \u001b[0;34m=\u001b[0m \u001b[0mcls\u001b[0m\u001b[0;34m.\u001b[0m\u001b[0mdist\u001b[0m\u001b[0;34m(\u001b[0m\u001b[0;34m*\u001b[0m\u001b[0margs\u001b[0m\u001b[0;34m,\u001b[0m \u001b[0;34m**\u001b[0m\u001b[0mkwargs\u001b[0m\u001b[0;34m)\u001b[0m\u001b[0;34m\u001b[0m\u001b[0m\n\u001b[0m\u001b[1;32m     39\u001b[0m             \u001b[0;32mreturn\u001b[0m \u001b[0mmodel\u001b[0m\u001b[0;34m.\u001b[0m\u001b[0mVar\u001b[0m\u001b[0;34m(\u001b[0m\u001b[0mname\u001b[0m\u001b[0;34m,\u001b[0m \u001b[0mdist\u001b[0m\u001b[0;34m,\u001b[0m \u001b[0mdata\u001b[0m\u001b[0;34m,\u001b[0m \u001b[0mtotal_size\u001b[0m\u001b[0;34m)\u001b[0m\u001b[0;34m\u001b[0m\u001b[0m\n\u001b[1;32m     40\u001b[0m         \u001b[0;32melse\u001b[0m\u001b[0;34m:\u001b[0m\u001b[0;34m\u001b[0m\u001b[0m\n",
      "\u001b[0;32m/Users/irarickman/anaconda2/lib/python2.7/site-packages/pymc3/distributions/distribution.pyc\u001b[0m in \u001b[0;36mdist\u001b[0;34m(cls, *args, **kwargs)\u001b[0m\n\u001b[1;32m     47\u001b[0m     \u001b[0;32mdef\u001b[0m \u001b[0mdist\u001b[0m\u001b[0;34m(\u001b[0m\u001b[0mcls\u001b[0m\u001b[0;34m,\u001b[0m \u001b[0;34m*\u001b[0m\u001b[0margs\u001b[0m\u001b[0;34m,\u001b[0m \u001b[0;34m**\u001b[0m\u001b[0mkwargs\u001b[0m\u001b[0;34m)\u001b[0m\u001b[0;34m:\u001b[0m\u001b[0;34m\u001b[0m\u001b[0m\n\u001b[1;32m     48\u001b[0m         \u001b[0mdist\u001b[0m \u001b[0;34m=\u001b[0m \u001b[0mobject\u001b[0m\u001b[0;34m.\u001b[0m\u001b[0m__new__\u001b[0m\u001b[0;34m(\u001b[0m\u001b[0mcls\u001b[0m\u001b[0;34m)\u001b[0m\u001b[0;34m\u001b[0m\u001b[0m\n\u001b[0;32m---> 49\u001b[0;31m         \u001b[0mdist\u001b[0m\u001b[0;34m.\u001b[0m\u001b[0m__init__\u001b[0m\u001b[0;34m(\u001b[0m\u001b[0;34m*\u001b[0m\u001b[0margs\u001b[0m\u001b[0;34m,\u001b[0m \u001b[0;34m**\u001b[0m\u001b[0mkwargs\u001b[0m\u001b[0;34m)\u001b[0m\u001b[0;34m\u001b[0m\u001b[0m\n\u001b[0m\u001b[1;32m     50\u001b[0m         \u001b[0;32mreturn\u001b[0m \u001b[0mdist\u001b[0m\u001b[0;34m\u001b[0m\u001b[0m\n\u001b[1;32m     51\u001b[0m \u001b[0;34m\u001b[0m\u001b[0m\n",
      "\u001b[0;32m/Users/irarickman/anaconda2/lib/python2.7/site-packages/pymc3/distributions/continuous.pyc\u001b[0m in \u001b[0;36m__init__\u001b[0;34m(self, mu, sd, tau, **kwargs)\u001b[0m\n\u001b[1;32m    229\u001b[0m \u001b[0;34m\u001b[0m\u001b[0m\n\u001b[1;32m    230\u001b[0m         \u001b[0mself\u001b[0m\u001b[0;34m.\u001b[0m\u001b[0mmean\u001b[0m \u001b[0;34m=\u001b[0m \u001b[0mself\u001b[0m\u001b[0;34m.\u001b[0m\u001b[0mmedian\u001b[0m \u001b[0;34m=\u001b[0m \u001b[0mself\u001b[0m\u001b[0;34m.\u001b[0m\u001b[0mmode\u001b[0m \u001b[0;34m=\u001b[0m \u001b[0mself\u001b[0m\u001b[0;34m.\u001b[0m\u001b[0mmu\u001b[0m \u001b[0;34m=\u001b[0m \u001b[0mmu\u001b[0m \u001b[0;34m=\u001b[0m \u001b[0mtt\u001b[0m\u001b[0;34m.\u001b[0m\u001b[0mas_tensor_variable\u001b[0m\u001b[0;34m(\u001b[0m\u001b[0mmu\u001b[0m\u001b[0;34m)\u001b[0m\u001b[0;34m\u001b[0m\u001b[0m\n\u001b[0;32m--> 231\u001b[0;31m         \u001b[0mself\u001b[0m\u001b[0;34m.\u001b[0m\u001b[0mvariance\u001b[0m \u001b[0;34m=\u001b[0m \u001b[0;36m1.\u001b[0m \u001b[0;34m/\u001b[0m \u001b[0mself\u001b[0m\u001b[0;34m.\u001b[0m\u001b[0mtau\u001b[0m\u001b[0;34m\u001b[0m\u001b[0m\n\u001b[0m\u001b[1;32m    232\u001b[0m \u001b[0;34m\u001b[0m\u001b[0m\n\u001b[1;32m    233\u001b[0m         \u001b[0massert_negative_support\u001b[0m\u001b[0;34m(\u001b[0m\u001b[0msd\u001b[0m\u001b[0;34m,\u001b[0m \u001b[0;34m'sd'\u001b[0m\u001b[0;34m,\u001b[0m \u001b[0;34m'Normal'\u001b[0m\u001b[0;34m)\u001b[0m\u001b[0;34m\u001b[0m\u001b[0m\n",
      "\u001b[0;32m/Users/irarickman/anaconda2/lib/python2.7/site-packages/theano/tensor/var.pyc\u001b[0m in \u001b[0;36m__rtruediv__\u001b[0;34m(self, other)\u001b[0m\n\u001b[1;32m    201\u001b[0m \u001b[0;34m\u001b[0m\u001b[0m\n\u001b[1;32m    202\u001b[0m     \u001b[0;32mdef\u001b[0m \u001b[0m__rtruediv__\u001b[0m\u001b[0;34m(\u001b[0m\u001b[0mself\u001b[0m\u001b[0;34m,\u001b[0m \u001b[0mother\u001b[0m\u001b[0;34m)\u001b[0m\u001b[0;34m:\u001b[0m\u001b[0;34m\u001b[0m\u001b[0m\n\u001b[0;32m--> 203\u001b[0;31m         \u001b[0;32mreturn\u001b[0m \u001b[0mtheano\u001b[0m\u001b[0;34m.\u001b[0m\u001b[0mtensor\u001b[0m\u001b[0;34m.\u001b[0m\u001b[0mbasic\u001b[0m\u001b[0;34m.\u001b[0m\u001b[0mtrue_div\u001b[0m\u001b[0;34m(\u001b[0m\u001b[0mother\u001b[0m\u001b[0;34m,\u001b[0m \u001b[0mself\u001b[0m\u001b[0;34m)\u001b[0m\u001b[0;34m\u001b[0m\u001b[0m\n\u001b[0m\u001b[1;32m    204\u001b[0m \u001b[0;34m\u001b[0m\u001b[0m\n\u001b[1;32m    205\u001b[0m     \u001b[0;32mdef\u001b[0m \u001b[0m__rfloordiv__\u001b[0m\u001b[0;34m(\u001b[0m\u001b[0mself\u001b[0m\u001b[0;34m,\u001b[0m \u001b[0mother\u001b[0m\u001b[0;34m)\u001b[0m\u001b[0;34m:\u001b[0m\u001b[0;34m\u001b[0m\u001b[0m\n",
      "\u001b[0;32m/Users/irarickman/anaconda2/lib/python2.7/site-packages/theano/gof/op.pyc\u001b[0m in \u001b[0;36m__call__\u001b[0;34m(self, *inputs, **kwargs)\u001b[0m\n\u001b[1;32m    668\u001b[0m                 \u001b[0;31m# compute output value once with test inputs to validate graph\u001b[0m\u001b[0;34m\u001b[0m\u001b[0;34m\u001b[0m\u001b[0m\n\u001b[1;32m    669\u001b[0m                 thunk = node.op.make_thunk(node, storage_map, compute_map,\n\u001b[0;32m--> 670\u001b[0;31m                                            no_recycling=[])\n\u001b[0m\u001b[1;32m    671\u001b[0m                 \u001b[0mthunk\u001b[0m\u001b[0;34m.\u001b[0m\u001b[0minputs\u001b[0m \u001b[0;34m=\u001b[0m \u001b[0;34m[\u001b[0m\u001b[0mstorage_map\u001b[0m\u001b[0;34m[\u001b[0m\u001b[0mv\u001b[0m\u001b[0;34m]\u001b[0m \u001b[0;32mfor\u001b[0m \u001b[0mv\u001b[0m \u001b[0;32min\u001b[0m \u001b[0mnode\u001b[0m\u001b[0;34m.\u001b[0m\u001b[0minputs\u001b[0m\u001b[0;34m]\u001b[0m\u001b[0;34m\u001b[0m\u001b[0m\n\u001b[1;32m    672\u001b[0m                 \u001b[0mthunk\u001b[0m\u001b[0;34m.\u001b[0m\u001b[0moutputs\u001b[0m \u001b[0;34m=\u001b[0m \u001b[0;34m[\u001b[0m\u001b[0mstorage_map\u001b[0m\u001b[0;34m[\u001b[0m\u001b[0mv\u001b[0m\u001b[0;34m]\u001b[0m \u001b[0;32mfor\u001b[0m \u001b[0mv\u001b[0m \u001b[0;32min\u001b[0m \u001b[0mnode\u001b[0m\u001b[0;34m.\u001b[0m\u001b[0moutputs\u001b[0m\u001b[0;34m]\u001b[0m\u001b[0;34m\u001b[0m\u001b[0m\n",
      "\u001b[0;32m/Users/irarickman/anaconda2/lib/python2.7/site-packages/theano/gof/op.pyc\u001b[0m in \u001b[0;36mmake_thunk\u001b[0;34m(self, node, storage_map, compute_map, no_recycling, impl)\u001b[0m\n\u001b[1;32m    933\u001b[0m             \u001b[0;32mtry\u001b[0m\u001b[0;34m:\u001b[0m\u001b[0;34m\u001b[0m\u001b[0m\n\u001b[1;32m    934\u001b[0m                 return self.make_c_thunk(node, storage_map, compute_map,\n\u001b[0;32m--> 935\u001b[0;31m                                          no_recycling)\n\u001b[0m\u001b[1;32m    936\u001b[0m             \u001b[0;32mexcept\u001b[0m \u001b[0;34m(\u001b[0m\u001b[0mNotImplementedError\u001b[0m\u001b[0;34m,\u001b[0m \u001b[0mutils\u001b[0m\u001b[0;34m.\u001b[0m\u001b[0mMethodNotDefined\u001b[0m\u001b[0;34m)\u001b[0m\u001b[0;34m:\u001b[0m\u001b[0;34m\u001b[0m\u001b[0m\n\u001b[1;32m    937\u001b[0m                 \u001b[0;31m# We requested the c code, so don't catch the error.\u001b[0m\u001b[0;34m\u001b[0m\u001b[0;34m\u001b[0m\u001b[0m\n",
      "\u001b[0;32m/Users/irarickman/anaconda2/lib/python2.7/site-packages/theano/gof/op.pyc\u001b[0m in \u001b[0;36mmake_c_thunk\u001b[0;34m(self, node, storage_map, compute_map, no_recycling)\u001b[0m\n\u001b[1;32m    837\u001b[0m         \u001b[0m_logger\u001b[0m\u001b[0;34m.\u001b[0m\u001b[0mdebug\u001b[0m\u001b[0;34m(\u001b[0m\u001b[0;34m'Trying CLinker.make_thunk'\u001b[0m\u001b[0;34m)\u001b[0m\u001b[0;34m\u001b[0m\u001b[0m\n\u001b[1;32m    838\u001b[0m         outputs = cl.make_thunk(input_storage=node_input_storage,\n\u001b[0;32m--> 839\u001b[0;31m                                 output_storage=node_output_storage)\n\u001b[0m\u001b[1;32m    840\u001b[0m         \u001b[0mfill_storage\u001b[0m\u001b[0;34m,\u001b[0m \u001b[0mnode_input_filters\u001b[0m\u001b[0;34m,\u001b[0m \u001b[0mnode_output_filters\u001b[0m \u001b[0;34m=\u001b[0m \u001b[0moutputs\u001b[0m\u001b[0;34m\u001b[0m\u001b[0m\n\u001b[1;32m    841\u001b[0m \u001b[0;34m\u001b[0m\u001b[0m\n",
      "\u001b[0;32m/Users/irarickman/anaconda2/lib/python2.7/site-packages/theano/gof/cc.pyc\u001b[0m in \u001b[0;36mmake_thunk\u001b[0;34m(self, input_storage, output_storage, storage_map, keep_lock)\u001b[0m\n\u001b[1;32m   1188\u001b[0m         cthunk, in_storage, out_storage, error_storage = self.__compile__(\n\u001b[1;32m   1189\u001b[0m             \u001b[0minput_storage\u001b[0m\u001b[0;34m,\u001b[0m \u001b[0moutput_storage\u001b[0m\u001b[0;34m,\u001b[0m \u001b[0mstorage_map\u001b[0m\u001b[0;34m,\u001b[0m\u001b[0;34m\u001b[0m\u001b[0m\n\u001b[0;32m-> 1190\u001b[0;31m             keep_lock=keep_lock)\n\u001b[0m\u001b[1;32m   1191\u001b[0m \u001b[0;34m\u001b[0m\u001b[0m\n\u001b[1;32m   1192\u001b[0m         \u001b[0mres\u001b[0m \u001b[0;34m=\u001b[0m \u001b[0m_CThunk\u001b[0m\u001b[0;34m(\u001b[0m\u001b[0mcthunk\u001b[0m\u001b[0;34m,\u001b[0m \u001b[0minit_tasks\u001b[0m\u001b[0;34m,\u001b[0m \u001b[0mtasks\u001b[0m\u001b[0;34m,\u001b[0m \u001b[0merror_storage\u001b[0m\u001b[0;34m)\u001b[0m\u001b[0;34m\u001b[0m\u001b[0m\n",
      "\u001b[0;32m/Users/irarickman/anaconda2/lib/python2.7/site-packages/theano/gof/cc.pyc\u001b[0m in \u001b[0;36m__compile__\u001b[0;34m(self, input_storage, output_storage, storage_map, keep_lock)\u001b[0m\n\u001b[1;32m   1129\u001b[0m                                     \u001b[0moutput_storage\u001b[0m\u001b[0;34m,\u001b[0m\u001b[0;34m\u001b[0m\u001b[0m\n\u001b[1;32m   1130\u001b[0m                                     \u001b[0mstorage_map\u001b[0m\u001b[0;34m,\u001b[0m\u001b[0;34m\u001b[0m\u001b[0m\n\u001b[0;32m-> 1131\u001b[0;31m                                     keep_lock=keep_lock)\n\u001b[0m\u001b[1;32m   1132\u001b[0m         return (thunk,\n\u001b[1;32m   1133\u001b[0m                 [link.Container(input, storage) for input, storage in\n",
      "\u001b[0;32m/Users/irarickman/anaconda2/lib/python2.7/site-packages/theano/gof/cc.pyc\u001b[0m in \u001b[0;36mcthunk_factory\u001b[0;34m(self, error_storage, in_storage, out_storage, storage_map, keep_lock)\u001b[0m\n\u001b[1;32m   1584\u001b[0m                 \u001b[0mnode\u001b[0m\u001b[0;34m.\u001b[0m\u001b[0mop\u001b[0m\u001b[0;34m.\u001b[0m\u001b[0mprepare_node\u001b[0m\u001b[0;34m(\u001b[0m\u001b[0mnode\u001b[0m\u001b[0;34m,\u001b[0m \u001b[0mstorage_map\u001b[0m\u001b[0;34m,\u001b[0m \u001b[0mNone\u001b[0m\u001b[0;34m,\u001b[0m \u001b[0;34m'c'\u001b[0m\u001b[0;34m)\u001b[0m\u001b[0;34m\u001b[0m\u001b[0m\n\u001b[1;32m   1585\u001b[0m             module = get_module_cache().module_from_key(\n\u001b[0;32m-> 1586\u001b[0;31m                 key=key, lnk=self, keep_lock=keep_lock)\n\u001b[0m\u001b[1;32m   1587\u001b[0m \u001b[0;34m\u001b[0m\u001b[0m\n\u001b[1;32m   1588\u001b[0m         \u001b[0mvars\u001b[0m \u001b[0;34m=\u001b[0m \u001b[0mself\u001b[0m\u001b[0;34m.\u001b[0m\u001b[0minputs\u001b[0m \u001b[0;34m+\u001b[0m \u001b[0mself\u001b[0m\u001b[0;34m.\u001b[0m\u001b[0moutputs\u001b[0m \u001b[0;34m+\u001b[0m \u001b[0mself\u001b[0m\u001b[0;34m.\u001b[0m\u001b[0morphans\u001b[0m\u001b[0;34m\u001b[0m\u001b[0m\n",
      "\u001b[0;32m/Users/irarickman/anaconda2/lib/python2.7/site-packages/theano/gof/cmodule.pyc\u001b[0m in \u001b[0;36mmodule_from_key\u001b[0;34m(self, key, lnk, keep_lock)\u001b[0m\n\u001b[1;32m   1123\u001b[0m         \u001b[0;31m# Is the source code already in the cache?\u001b[0m\u001b[0;34m\u001b[0m\u001b[0;34m\u001b[0m\u001b[0m\n\u001b[1;32m   1124\u001b[0m         \u001b[0mmodule_hash\u001b[0m \u001b[0;34m=\u001b[0m \u001b[0mget_module_hash\u001b[0m\u001b[0;34m(\u001b[0m\u001b[0msrc_code\u001b[0m\u001b[0;34m,\u001b[0m \u001b[0mkey\u001b[0m\u001b[0;34m)\u001b[0m\u001b[0;34m\u001b[0m\u001b[0m\n\u001b[0;32m-> 1125\u001b[0;31m         \u001b[0mmodule\u001b[0m \u001b[0;34m=\u001b[0m \u001b[0mself\u001b[0m\u001b[0;34m.\u001b[0m\u001b[0m_get_from_hash\u001b[0m\u001b[0;34m(\u001b[0m\u001b[0mmodule_hash\u001b[0m\u001b[0;34m,\u001b[0m \u001b[0mkey\u001b[0m\u001b[0;34m,\u001b[0m \u001b[0mkeep_lock\u001b[0m\u001b[0;34m=\u001b[0m\u001b[0mkeep_lock\u001b[0m\u001b[0;34m)\u001b[0m\u001b[0;34m\u001b[0m\u001b[0m\n\u001b[0m\u001b[1;32m   1126\u001b[0m         \u001b[0;32mif\u001b[0m \u001b[0mmodule\u001b[0m \u001b[0;32mis\u001b[0m \u001b[0;32mnot\u001b[0m \u001b[0mNone\u001b[0m\u001b[0;34m:\u001b[0m\u001b[0;34m\u001b[0m\u001b[0m\n\u001b[1;32m   1127\u001b[0m             \u001b[0;32mreturn\u001b[0m \u001b[0mmodule\u001b[0m\u001b[0;34m\u001b[0m\u001b[0m\n",
      "\u001b[0;32m/Users/irarickman/anaconda2/lib/python2.7/site-packages/theano/gof/cmodule.pyc\u001b[0m in \u001b[0;36m_get_from_hash\u001b[0;34m(self, module_hash, key, keep_lock)\u001b[0m\n\u001b[1;32m   1023\u001b[0m             \u001b[0;32mwith\u001b[0m \u001b[0mcompilelock\u001b[0m\u001b[0;34m.\u001b[0m\u001b[0mlock_ctx\u001b[0m\u001b[0;34m(\u001b[0m\u001b[0mkeep_lock\u001b[0m\u001b[0;34m=\u001b[0m\u001b[0mkeep_lock\u001b[0m\u001b[0;34m)\u001b[0m\u001b[0;34m:\u001b[0m\u001b[0;34m\u001b[0m\u001b[0m\n\u001b[1;32m   1024\u001b[0m                 \u001b[0;32mtry\u001b[0m\u001b[0;34m:\u001b[0m\u001b[0;34m\u001b[0m\u001b[0m\n\u001b[0;32m-> 1025\u001b[0;31m                     \u001b[0mkey_data\u001b[0m\u001b[0;34m.\u001b[0m\u001b[0madd_key\u001b[0m\u001b[0;34m(\u001b[0m\u001b[0mkey\u001b[0m\u001b[0;34m,\u001b[0m \u001b[0msave_pkl\u001b[0m\u001b[0;34m=\u001b[0m\u001b[0mbool\u001b[0m\u001b[0;34m(\u001b[0m\u001b[0mkey\u001b[0m\u001b[0;34m[\u001b[0m\u001b[0;36m0\u001b[0m\u001b[0;34m]\u001b[0m\u001b[0;34m)\u001b[0m\u001b[0;34m)\u001b[0m\u001b[0;34m\u001b[0m\u001b[0m\n\u001b[0m\u001b[1;32m   1026\u001b[0m                     \u001b[0mkey_broken\u001b[0m \u001b[0;34m=\u001b[0m \u001b[0mFalse\u001b[0m\u001b[0;34m\u001b[0m\u001b[0m\n\u001b[1;32m   1027\u001b[0m                 \u001b[0;32mexcept\u001b[0m \u001b[0mpickle\u001b[0m\u001b[0;34m.\u001b[0m\u001b[0mPicklingError\u001b[0m\u001b[0;34m:\u001b[0m\u001b[0;34m\u001b[0m\u001b[0m\n",
      "\u001b[0;32m/Users/irarickman/anaconda2/lib/python2.7/site-packages/theano/gof/cmodule.pyc\u001b[0m in \u001b[0;36madd_key\u001b[0;34m(self, key, save_pkl)\u001b[0m\n\u001b[1;32m    485\u001b[0m \u001b[0;34m\u001b[0m\u001b[0m\n\u001b[1;32m    486\u001b[0m         \"\"\"\n\u001b[0;32m--> 487\u001b[0;31m         \u001b[0;32massert\u001b[0m \u001b[0mkey\u001b[0m \u001b[0;32mnot\u001b[0m \u001b[0;32min\u001b[0m \u001b[0mself\u001b[0m\u001b[0;34m.\u001b[0m\u001b[0mkeys\u001b[0m\u001b[0;34m\u001b[0m\u001b[0m\n\u001b[0m\u001b[1;32m    488\u001b[0m         \u001b[0mself\u001b[0m\u001b[0;34m.\u001b[0m\u001b[0mkeys\u001b[0m\u001b[0;34m.\u001b[0m\u001b[0madd\u001b[0m\u001b[0;34m(\u001b[0m\u001b[0mkey\u001b[0m\u001b[0;34m)\u001b[0m\u001b[0;34m\u001b[0m\u001b[0m\n\u001b[1;32m    489\u001b[0m         \u001b[0;32mif\u001b[0m \u001b[0msave_pkl\u001b[0m\u001b[0;34m:\u001b[0m\u001b[0;34m\u001b[0m\u001b[0m\n",
      "\u001b[0;31mAssertionError\u001b[0m: "
     ]
    }
   ],
   "source": [
    "## running on the period data set for the remaining ones after the first run through\n",
    "periods_bayes_df = pd.DataFrame(columns = ['station','mean_mean', 'mean_std', 'mean_mc_error', 'mean_2.5', 'mean_97.5','std_mean', 'std_std', 'std_mc_error', 'std_2.5', 'std_97.5'])\n",
    "start_time=time.time()\n",
    "count=0\n",
    "for p in to_do_p:\n",
    "    print p\n",
    "    temp = mc(pers_model, p)\n",
    "    rw =len(periods_bayes_df)\n",
    "    periods_bayes_df.loc[rw,'station']=p\n",
    "    periods_bayes_df.loc[rw,1:6]=[x for x in temp.loc['difference of means']]\n",
    "    periods_bayes_df.loc[rw,6:]=[x for x in temp.loc['difference of stds']]\n",
    "    count+=1\n",
    "    if count%10==0:\n",
    "        periods_bayes_df.to_csv(str(count) + ' _periods_addl_stations.csv', index=False)\n",
    "        end_time = time.time()\n",
    "        print str(count) + ' -  after ' + str((end_time - start_time)/60.) + ' minutes'\n",
    "end_time = time.time()\n",
    "print str((end_time - start_time)/60.) + ' minutes to run'"
   ]
  },
  {
   "cell_type": "code",
   "execution_count": 71,
   "metadata": {},
   "outputs": [],
   "source": [
    "#periods_bayes_df.to_csv('137_periods_stations.csv',index=False)\n",
    "#periods_bayes_df.to_csv('148_periods_stations.csv',index=False)\n"
   ]
  },
  {
   "cell_type": "code",
   "execution_count": 67,
   "metadata": {},
   "outputs": [
    {
     "data": {
      "text/plain": [
       "capacity                                                                   11\n",
       "eightd_has_key_dispenser                                                False\n",
       "eightd_station_services                                                   NaN\n",
       "lat                                                                   38.8573\n",
       "lon                                                                  -77.0533\n",
       "name                                                          18th & Eads St.\n",
       "region_id                                                                  41\n",
       "rental_methods                                              [KEY, CREDITCARD]\n",
       "rental_url                  http://app.capitalbikeshare.com/vIiR/zVsfTIsOT...\n",
       "short_name                                                              31001\n",
       "station_id                                                                  2\n",
       "coords                                                  (38.85725, -77.05332)\n",
       "dist_31000                                                           0.119042\n",
       "dist_31001                                                                  0\n",
       "dist_31002                                                           0.227281\n",
       "dist_31003                                                           0.284533\n",
       "dist_31004                                                           0.334779\n",
       "dist_31005                                                           0.498732\n",
       "dist_31006                                                           0.697984\n",
       "dist_31007                                                           0.118256\n",
       "dist_31008                                                           0.391489\n",
       "dist_31009                                                           0.616508\n",
       "dist_31010                                                            1.02633\n",
       "dist_31011                                                           0.332291\n",
       "dist_31012                                                            0.46375\n",
       "dist_31100                                                            3.02766\n",
       "dist_31101                                                            4.32435\n",
       "dist_31102                                                            5.17595\n",
       "dist_31103                                                             4.8425\n",
       "dist_31104                                                             4.5756\n",
       "                                                  ...                        \n",
       "dist_32063                                                            12.9715\n",
       "dist_32064                                                            12.3543\n",
       "dist_32065                                                            12.8565\n",
       "dist_32066                                                            12.0837\n",
       "dist_32223                                                            17.3246\n",
       "dist_32224                                                            17.9823\n",
       "dist_31413                                                            7.96527\n",
       "dist_31521                                                             6.5664\n",
       "dist_31294                                                            2.48319\n",
       "dist_32067                                                            19.2113\n",
       "dist_31295                                                            3.38592\n",
       "dist_31296                                                             4.6683\n",
       "dist_31920                                                            3.77547\n",
       "dist_31921                                                            5.18589\n",
       "dist_31923                                                            2.71431\n",
       "dist_32068                                                            19.5572\n",
       "dist_32069                                                             19.341\n",
       "dist_32225                                                            17.7933\n",
       "dist_32070                                                            18.9768\n",
       "dist_31297                                                            2.92036\n",
       "dist_31298                                                            3.47729\n",
       "dist_31126                                                            4.93213\n",
       "dist_31299                                                            3.85066\n",
       "dist_31924                                                            2.88966\n",
       "dist_31320                                                            5.75793\n",
       "dist_31321                                                            2.64902\n",
       "dist_31127                                                             2.9022\n",
       "dist_31128                                                            3.32514\n",
       "dist_32071                                                            18.8122\n",
       "dist_32072                                                            18.9744\n",
       "Name: 31001, Length: 487, dtype: object"
      ]
     },
     "execution_count": 67,
     "metadata": {},
     "output_type": "execute_result"
    }
   ],
   "source": [
    "test.iloc[1,:]"
   ]
  },
  {
   "cell_type": "markdown",
   "metadata": {},
   "source": [
    "## 2016 Data Viz"
   ]
  },
  {
   "cell_type": "code",
   "execution_count": 4,
   "metadata": {},
   "outputs": [
    {
     "data": {
      "text/plain": [
       "(3333786, 10)"
      ]
     },
     "execution_count": 4,
     "metadata": {},
     "output_type": "execute_result"
    }
   ],
   "source": [
    "bikes.shape"
   ]
  },
  {
   "cell_type": "code",
   "execution_count": 5,
   "metadata": {},
   "outputs": [
    {
     "data": {
      "text/plain": [
       "Index([u'Account type', u'Bike number', u'Duration (ms)', u'End date',\n",
       "       u'End station', u'End station number', u'Member Type', u'Start date',\n",
       "       u'Start station', u'Start station number'],\n",
       "      dtype='object')"
      ]
     },
     "execution_count": 5,
     "metadata": {},
     "output_type": "execute_result"
    }
   ],
   "source": [
    "bikes.columns"
   ]
  },
  {
   "cell_type": "code",
   "execution_count": 6,
   "metadata": {},
   "outputs": [
    {
     "data": {
      "text/html": [
       "<div>\n",
       "<style>\n",
       "    .dataframe thead tr:only-child th {\n",
       "        text-align: right;\n",
       "    }\n",
       "\n",
       "    .dataframe thead th {\n",
       "        text-align: left;\n",
       "    }\n",
       "\n",
       "    .dataframe tbody tr th {\n",
       "        vertical-align: top;\n",
       "    }\n",
       "</style>\n",
       "<table border=\"1\" class=\"dataframe\">\n",
       "  <thead>\n",
       "    <tr style=\"text-align: right;\">\n",
       "      <th></th>\n",
       "      <th>Account type</th>\n",
       "      <th>Bike number</th>\n",
       "      <th>Duration (ms)</th>\n",
       "      <th>End date</th>\n",
       "      <th>End station</th>\n",
       "      <th>End station number</th>\n",
       "      <th>Member Type</th>\n",
       "      <th>Start date</th>\n",
       "      <th>Start station</th>\n",
       "      <th>Start station number</th>\n",
       "    </tr>\n",
       "  </thead>\n",
       "  <tbody>\n",
       "    <tr>\n",
       "      <th>0</th>\n",
       "      <td>NaN</td>\n",
       "      <td>W00022</td>\n",
       "      <td>301295</td>\n",
       "      <td>4/1/2016 0:04</td>\n",
       "      <td>1st &amp; Rhode Island Ave NW</td>\n",
       "      <td>31506</td>\n",
       "      <td>Registered</td>\n",
       "      <td>3/31/2016 23:59</td>\n",
       "      <td>11th &amp; S St NW</td>\n",
       "      <td>31280</td>\n",
       "    </tr>\n",
       "    <tr>\n",
       "      <th>1</th>\n",
       "      <td>NaN</td>\n",
       "      <td>W01294</td>\n",
       "      <td>557887</td>\n",
       "      <td>4/1/2016 0:08</td>\n",
       "      <td>18th St &amp; Wyoming Ave NW</td>\n",
       "      <td>31114</td>\n",
       "      <td>Registered</td>\n",
       "      <td>3/31/2016 23:59</td>\n",
       "      <td>New Hampshire Ave &amp; 24th St NW</td>\n",
       "      <td>31275</td>\n",
       "    </tr>\n",
       "    <tr>\n",
       "      <th>2</th>\n",
       "      <td>NaN</td>\n",
       "      <td>W01416</td>\n",
       "      <td>555944</td>\n",
       "      <td>4/1/2016 0:08</td>\n",
       "      <td>18th &amp; M St NW</td>\n",
       "      <td>31221</td>\n",
       "      <td>Registered</td>\n",
       "      <td>3/31/2016 23:59</td>\n",
       "      <td>14th &amp; V St NW</td>\n",
       "      <td>31101</td>\n",
       "    </tr>\n",
       "    <tr>\n",
       "      <th>3</th>\n",
       "      <td>NaN</td>\n",
       "      <td>W01090</td>\n",
       "      <td>766916</td>\n",
       "      <td>4/1/2016 0:09</td>\n",
       "      <td>17th &amp; Corcoran St NW</td>\n",
       "      <td>31214</td>\n",
       "      <td>Registered</td>\n",
       "      <td>3/31/2016 23:57</td>\n",
       "      <td>34th St &amp; Wisconsin Ave NW</td>\n",
       "      <td>31226</td>\n",
       "    </tr>\n",
       "    <tr>\n",
       "      <th>4</th>\n",
       "      <td>NaN</td>\n",
       "      <td>W21934</td>\n",
       "      <td>139656</td>\n",
       "      <td>3/31/2016 23:59</td>\n",
       "      <td>27th &amp; Crystal Dr</td>\n",
       "      <td>31009</td>\n",
       "      <td>Registered</td>\n",
       "      <td>3/31/2016 23:57</td>\n",
       "      <td>23rd &amp; Crystal Dr</td>\n",
       "      <td>31011</td>\n",
       "    </tr>\n",
       "  </tbody>\n",
       "</table>\n",
       "</div>"
      ],
      "text/plain": [
       "  Account type Bike number Duration (ms)         End date  \\\n",
       "0          NaN      W00022        301295    4/1/2016 0:04   \n",
       "1          NaN      W01294        557887    4/1/2016 0:08   \n",
       "2          NaN      W01416        555944    4/1/2016 0:08   \n",
       "3          NaN      W01090        766916    4/1/2016 0:09   \n",
       "4          NaN      W21934        139656  3/31/2016 23:59   \n",
       "\n",
       "                 End station End station number Member Type       Start date  \\\n",
       "0  1st & Rhode Island Ave NW              31506  Registered  3/31/2016 23:59   \n",
       "1   18th St & Wyoming Ave NW              31114  Registered  3/31/2016 23:59   \n",
       "2             18th & M St NW              31221  Registered  3/31/2016 23:59   \n",
       "3      17th & Corcoran St NW              31214  Registered  3/31/2016 23:57   \n",
       "4          27th & Crystal Dr              31009  Registered  3/31/2016 23:57   \n",
       "\n",
       "                    Start station Start station number  \n",
       "0                  11th & S St NW                31280  \n",
       "1  New Hampshire Ave & 24th St NW                31275  \n",
       "2                  14th & V St NW                31101  \n",
       "3      34th St & Wisconsin Ave NW                31226  \n",
       "4               23rd & Crystal Dr                31011  "
      ]
     },
     "execution_count": 6,
     "metadata": {},
     "output_type": "execute_result"
    }
   ],
   "source": [
    "bikes.head()"
   ]
  },
  {
   "cell_type": "code",
   "execution_count": 7,
   "metadata": {
    "collapsed": true
   },
   "outputs": [],
   "source": [
    "bikes['start'] = pd.to_datetime(bikes['Start date'], infer_datetime_format = True)\n",
    "bikes['end'] = pd.to_datetime(bikes['End date'], infer_datetime_format = True)"
   ]
  },
  {
   "cell_type": "code",
   "execution_count": 8,
   "metadata": {
    "collapsed": true
   },
   "outputs": [],
   "source": [
    "bikes['start_year']=bikes.start.dt.year\n",
    "bikes['end_year']=bikes.end.dt.year\n",
    "bikes['start_month']=bikes.start.dt.month\n",
    "bikes['end_month']=bikes.end.dt.month\n",
    "bikes['start_day']=bikes.start.dt.day\n",
    "bikes['end_day']=bikes.end.dt.day\n",
    "bikes['start_hour'] = bikes.start.dt.hour\n",
    "bikes['start_minute'] = bikes.start.dt.minute\n",
    "bikes['end_hour'] = bikes.end.dt.hour\n",
    "bikes['end_minute']=bikes.end.dt.minute\n",
    "bikes['start_weekday'] = bikes.start.dt.weekday\n",
    "bikes['end_weekday'] = bikes.end.dt.weekday\n",
    "bikes['trip_time']=(bikes['Duration (ms)']/60000).astype(float)"
   ]
  },
  {
   "cell_type": "code",
   "execution_count": 9,
   "metadata": {
    "collapsed": true
   },
   "outputs": [],
   "source": [
    "weekdays = {i:day for i,day in enumerate(['Monday','Tuesday', 'Wednesday', 'Thursday', 'Friday', 'Saturday', 'Sunday'])}"
   ]
  },
  {
   "cell_type": "code",
   "execution_count": 10,
   "metadata": {
    "collapsed": true
   },
   "outputs": [],
   "source": [
    "bikes['start_day_name']=bikes.start_weekday.apply(lambda x: weekdays[x])\n",
    "bikes['end_day_name']=bikes.end_weekday.apply(lambda x: weekdays[x])"
   ]
  },
  {
   "cell_type": "code",
   "execution_count": 11,
   "metadata": {},
   "outputs": [
    {
     "data": {
      "text/plain": [
       "<matplotlib.axes._subplots.AxesSubplot at 0x10e0dfb10>"
      ]
     },
     "execution_count": 11,
     "metadata": {},
     "output_type": "execute_result"
    },
    {
     "data": {
      "image/png": "[encoded data removed]",
      "text/plain": [
       "<matplotlib.figure.Figure at 0x103c78950>"
      ]
     },
     "metadata": {},
     "output_type": "display_data"
    }
   ],
   "source": [
    "## what's the most common weekday?\n",
    "bikes.start_day_name.value_counts().plot(kind='bar')"
   ]
  },
  {
   "cell_type": "code",
   "execution_count": 12,
   "metadata": {},
   "outputs": [
    {
     "data": {
      "text/plain": [
       "<matplotlib.axes._subplots.AxesSubplot at 0x10e88fe10>"
      ]
     },
     "execution_count": 12,
     "metadata": {},
     "output_type": "execute_result"
    },
    {
     "data": {
      "image/png": "[encoded data removed]",
      "text/plain": [
       "<matplotlib.figure.Figure at 0x10e772110>"
      ]
     },
     "metadata": {},
     "output_type": "display_data"
    }
   ],
   "source": [
    "## What's the most common month?\n",
    "bikes.start_month.value_counts().plot(kind='bar')"
   ]
  },
  {
   "cell_type": "code",
   "execution_count": 13,
   "metadata": {},
   "outputs": [
    {
     "data": {
      "text/plain": [
       "<matplotlib.axes._subplots.AxesSubplot at 0x10f160150>"
      ]
     },
     "execution_count": 13,
     "metadata": {},
     "output_type": "execute_result"
    },
    {
     "data": {
      "image/png": "[encoded data removed]",
      "text/plain": [
       "<matplotlib.figure.Figure at 0x103c78910>"
      ]
     },
     "metadata": {},
     "output_type": "display_data"
    }
   ],
   "source": [
    "## What's the most common hour?\n",
    "bikes.start_hour.value_counts().plot(kind='bar')"
   ]
  },
  {
   "cell_type": "code",
   "execution_count": 14,
   "metadata": {},
   "outputs": [
    {
     "data": {
      "text/plain": [
       "(array([  4.67560000e+05,   9.56446000e+05,   6.70996000e+05,\n",
       "          4.29254000e+05,   2.78321000e+05,   1.63640000e+05,\n",
       "          7.76280000e+04,   4.45640000e+04,   3.10080000e+04,\n",
       "          2.55210000e+04,   2.13310000e+04,   1.82700000e+04,\n",
       "          1.50010000e+04,   1.24690000e+04,   1.12710000e+04,\n",
       "          1.02940000e+04,   9.60600000e+03,   8.53800000e+03,\n",
       "          7.62900000e+03,   6.78500000e+03,   0.00000000e+00,\n",
       "          5.27530000e+04,   7.86600000e+03,   2.21900000e+03,\n",
       "          9.08000000e+02,   6.01000000e+02,   5.33000000e+02,\n",
       "          4.88000000e+02,   4.87000000e+02]),\n",
       " array([  0,   5,  10,  15,  20,  25,  30,  35,  40,  45,  50,  55,  60,\n",
       "         65,  70,  75,  80,  85,  90,  95, 100, 100, 200, 300, 400, 500,\n",
       "        600, 700, 800, 900]),\n",
       " <a list of 29 Patch objects>)"
      ]
     },
     "execution_count": 14,
     "metadata": {},
     "output_type": "execute_result"
    },
    {
     "data": {
      "image/png": "[encoded data removed]",
      "text/plain": [
       "<matplotlib.figure.Figure at 0x10ed82390>"
      ]
     },
     "metadata": {},
     "output_type": "display_data"
    }
   ],
   "source": [
    "# Most of the trips are pretty short\n",
    "bins = [x for x in range(0,101,5)] + [x for x in range(100,1000,100)]\n",
    "plt.hist(bikes.trip_time, bins = bins)"
   ]
  },
  {
   "cell_type": "code",
   "execution_count": 15,
   "metadata": {},
   "outputs": [
    {
     "name": "stdout",
     "output_type": "stream",
     "text": [
      "the Mean number of trips on each bike is 749.17\n",
      "the Median number of trips on each bike is 802.00\n",
      "There are 4450 unique bikes\n"
     ]
    }
   ],
   "source": [
    "## how many bikes are there an what's the median and mean number of trips on each?\n",
    "print 'the Mean number of trips on each bike is {:.2f}'.format(bikes['Bike number'].value_counts().mean())\n",
    "print 'the Median number of trips on each bike is {:.2f}'.format(bikes['Bike number'].value_counts().median())\n",
    "print 'There are {} unique bikes'.format(bikes['Bike number'].nunique())"
   ]
  },
  {
   "cell_type": "code",
   "execution_count": 16,
   "metadata": {},
   "outputs": [
    {
     "data": {
      "text/plain": [
       "(array([ 225.,  190.,  296.,  471.,  705.,  874.,  984.,  574.,  119.,   12.]),\n",
       " array([  1.00000000e+00,   1.48700000e+02,   2.96400000e+02,\n",
       "          4.44100000e+02,   5.91800000e+02,   7.39500000e+02,\n",
       "          8.87200000e+02,   1.03490000e+03,   1.18260000e+03,\n",
       "          1.33030000e+03,   1.47800000e+03]),\n",
       " <a list of 10 Patch objects>)"
      ]
     },
     "execution_count": 16,
     "metadata": {},
     "output_type": "execute_result"
    },
    {
     "data": {
      "image/png": "[encoded data removed]",
      "text/plain": [
       "<matplotlib.figure.Figure at 0x10f156250>"
      ]
     },
     "metadata": {},
     "output_type": "display_data"
    }
   ],
   "source": [
    "## histogram of rides\n",
    "plt.hist(bikes['Bike number'].value_counts())"
   ]
  },
  {
   "cell_type": "code",
   "execution_count": 17,
   "metadata": {},
   "outputs": [
    {
     "name": "stdout",
     "output_type": "stream",
     "text": [
      "2391454\n",
      "942332\n"
     ]
    },
    {
     "data": {
      "text/plain": [
       "Registered    2601521\n",
       "Casual         732265\n",
       "Name: Type, dtype: int64"
      ]
     },
     "execution_count": 17,
     "metadata": {},
     "output_type": "execute_result"
    }
   ],
   "source": [
    "print bikes['Account type'].isnull().sum()\n",
    "print bikes['Member Type'].isnull().sum()\n",
    "bikes['Type']=bikes['Member Type'].fillna(bikes['Account type'])\n",
    "bikes.Type.value_counts()"
   ]
  },
  {
   "cell_type": "code",
   "execution_count": 18,
   "metadata": {},
   "outputs": [
    {
     "data": {
      "text/plain": [
       "<matplotlib.axes._subplots.AxesSubplot at 0x10fed04d0>"
      ]
     },
     "execution_count": 18,
     "metadata": {},
     "output_type": "execute_result"
    },
    {
     "data": {
      "image/png": "[encoded data removed]",
      "text/plain": [
       "<matplotlib.figure.Figure at 0x103b03490>"
      ]
     },
     "metadata": {},
     "output_type": "display_data"
    }
   ],
   "source": [
    "bikes.groupby('start_day_name')['Type','trip_time'].mean().plot(kind='bar')"
   ]
  },
  {
   "cell_type": "code",
   "execution_count": 19,
   "metadata": {},
   "outputs": [
    {
     "data": {
      "text/plain": [
       "<matplotlib.axes._subplots.AxesSubplot at 0x10ffa5dd0>"
      ]
     },
     "execution_count": 19,
     "metadata": {},
     "output_type": "execute_result"
    },
    {
     "data": {
      "image/png": "[encoded data removed]",
      "text/plain": [
       "<matplotlib.figure.Figure at 0x10f170b50>"
      ]
     },
     "metadata": {},
     "output_type": "display_data"
    }
   ],
   "source": [
    "bikes[bikes.Type=='Registered'].groupby('start_day_name').trip_time.mean().plot(kind='bar')"
   ]
  },
  {
   "cell_type": "code",
   "execution_count": 20,
   "metadata": {},
   "outputs": [
    {
     "data": {
      "text/plain": [
       "<matplotlib.axes._subplots.AxesSubplot at 0x10fed9b50>"
      ]
     },
     "execution_count": 20,
     "metadata": {},
     "output_type": "execute_result"
    },
    {
     "data": {
      "image/png": "[encoded data removed]",
      "text/plain": [
       "<matplotlib.figure.Figure at 0x10f767e50>"
      ]
     },
     "metadata": {},
     "output_type": "display_data"
    }
   ],
   "source": [
    "bikes[bikes.Type=='Casual'].groupby('start_day_name').trip_time.mean().plot(kind='bar', color='r')"
   ]
  },
  {
   "cell_type": "code",
   "execution_count": 21,
   "metadata": {},
   "outputs": [
    {
     "name": "stdout",
     "output_type": "stream",
     "text": [
      "Type\n",
      "Casual        42.303157\n",
      "Registered    12.660977\n",
      "Name: trip_time, dtype: float64\n",
      "Type\n",
      "Casual         732265\n",
      "Registered    2601521\n",
      "Name: trip_time, dtype: int64\n"
     ]
    }
   ],
   "source": [
    "print bikes.groupby('Type').trip_time.mean()\n",
    "print bikes.groupby('Type').trip_time.count()"
   ]
  },
  {
   "cell_type": "code",
   "execution_count": 924,
   "metadata": {
    "scrolled": true
   },
   "outputs": [
    {
     "name": "stdout",
     "output_type": "stream",
     "text": [
      "0.732957839966 seconds\n"
     ]
    }
   ],
   "source": [
    "## making a dictionary of the 4 closest stations for each station\n",
    "start_time =time.time()\n",
    "closest={}\n",
    "for x in stations_list.index:\n",
    "    find = pd.Series(stations_list.loc[x,cols])\n",
    "    closest[x] = [y[-5:] for y in find.sort_values()[1:5].index]\n",
    "\n",
    "end_time =time.time()\n",
    "print str(end_time -start_time) + ' seconds'"
   ]
  },
  {
   "cell_type": "code",
   "execution_count": null,
   "metadata": {
    "collapsed": true
   },
   "outputs": [],
   "source": [
    "# weather data\n",
    "# https://darksky.net/forecast/38.8951,-77.0364/us12/en"
   ]
  }
 ],
 "metadata": {
  "kernelspec": {
   "display_name": "Python 2",
   "language": "python",
   "name": "python2"
  },
  "language_info": {
   "codemirror_mode": {
    "name": "ipython",
    "version": 2
   },
   "file_extension": ".py",
   "mimetype": "text/x-python",
   "name": "python",
   "nbconvert_exporter": "python",
   "pygments_lexer": "ipython2",
   "version": "2.7.13"
  }
 },
 "nbformat": 4,
 "nbformat_minor": 2
}
