{
 "cells": [
  {
   "cell_type": "code",
   "execution_count": 1,
   "metadata": {
    "collapsed": true
   },
   "outputs": [],
   "source": [
    "import pandas as pd\n",
    "import numpy as np\n",
    "import matplotlib.pyplot as plt\n",
    "import seaborn as sns\n",
    "import requests\n",
    "import glob\n",
    "\n",
    "%matplotlib inline"
   ]
  },
  {
   "cell_type": "code",
   "execution_count": 2,
   "metadata": {
    "collapsed": true,
    "scrolled": true
   },
   "outputs": [],
   "source": [
    "files = glob.glob('../Data/*.csv')\n",
    "# cols = pd.read_csv(files[len(files)-1]).columns\n",
    "# bikes = pd.DataFrame(columns = cols)\n",
    "# for bike in files:\n",
    "#     data = pd.read_csv(bike)\n",
    "#     bikes = bikes.append(data)"
   ]
  },
  {
   "cell_type": "code",
   "execution_count": 3,
   "metadata": {
    "collapsed": true
   },
   "outputs": [],
   "source": [
    "# only working with 2016 for now\n",
    "len(files)\n",
    "bikes = pd.DataFrame(columns = pd.read_csv(files[21]).columns)\n",
    "for bike in files[21:26]:\n",
    "    bikes=bikes.append(pd.read_csv(bike))"
   ]
  },
  {
   "cell_type": "code",
   "execution_count": 4,
   "metadata": {},
   "outputs": [
    {
     "data": {
      "text/plain": [
       "(3333786, 10)"
      ]
     },
     "execution_count": 4,
     "metadata": {},
     "output_type": "execute_result"
    }
   ],
   "source": [
    "bikes.shape"
   ]
  },
  {
   "cell_type": "code",
   "execution_count": 5,
   "metadata": {},
   "outputs": [
    {
     "data": {
      "text/plain": [
       "Index([u'Account type', u'Bike number', u'Duration (ms)', u'End date',\n",
       "       u'End station', u'End station number', u'Member Type', u'Start date',\n",
       "       u'Start station', u'Start station number'],\n",
       "      dtype='object')"
      ]
     },
     "execution_count": 5,
     "metadata": {},
     "output_type": "execute_result"
    }
   ],
   "source": [
    "bikes.columns"
   ]
  },
  {
   "cell_type": "code",
   "execution_count": 6,
   "metadata": {},
   "outputs": [
    {
     "data": {
      "text/html": [
       "<div>\n",
       "<style>\n",
       "    .dataframe thead tr:only-child th {\n",
       "        text-align: right;\n",
       "    }\n",
       "\n",
       "    .dataframe thead th {\n",
       "        text-align: left;\n",
       "    }\n",
       "\n",
       "    .dataframe tbody tr th {\n",
       "        vertical-align: top;\n",
       "    }\n",
       "</style>\n",
       "<table border=\"1\" class=\"dataframe\">\n",
       "  <thead>\n",
       "    <tr style=\"text-align: right;\">\n",
       "      <th></th>\n",
       "      <th>Account type</th>\n",
       "      <th>Bike number</th>\n",
       "      <th>Duration (ms)</th>\n",
       "      <th>End date</th>\n",
       "      <th>End station</th>\n",
       "      <th>End station number</th>\n",
       "      <th>Member Type</th>\n",
       "      <th>Start date</th>\n",
       "      <th>Start station</th>\n",
       "      <th>Start station number</th>\n",
       "    </tr>\n",
       "  </thead>\n",
       "  <tbody>\n",
       "    <tr>\n",
       "      <th>0</th>\n",
       "      <td>NaN</td>\n",
       "      <td>W00022</td>\n",
       "      <td>301295</td>\n",
       "      <td>4/1/2016 0:04</td>\n",
       "      <td>1st &amp; Rhode Island Ave NW</td>\n",
       "      <td>31506</td>\n",
       "      <td>Registered</td>\n",
       "      <td>3/31/2016 23:59</td>\n",
       "      <td>11th &amp; S St NW</td>\n",
       "      <td>31280</td>\n",
       "    </tr>\n",
       "    <tr>\n",
       "      <th>1</th>\n",
       "      <td>NaN</td>\n",
       "      <td>W01294</td>\n",
       "      <td>557887</td>\n",
       "      <td>4/1/2016 0:08</td>\n",
       "      <td>18th St &amp; Wyoming Ave NW</td>\n",
       "      <td>31114</td>\n",
       "      <td>Registered</td>\n",
       "      <td>3/31/2016 23:59</td>\n",
       "      <td>New Hampshire Ave &amp; 24th St NW</td>\n",
       "      <td>31275</td>\n",
       "    </tr>\n",
       "    <tr>\n",
       "      <th>2</th>\n",
       "      <td>NaN</td>\n",
       "      <td>W01416</td>\n",
       "      <td>555944</td>\n",
       "      <td>4/1/2016 0:08</td>\n",
       "      <td>18th &amp; M St NW</td>\n",
       "      <td>31221</td>\n",
       "      <td>Registered</td>\n",
       "      <td>3/31/2016 23:59</td>\n",
       "      <td>14th &amp; V St NW</td>\n",
       "      <td>31101</td>\n",
       "    </tr>\n",
       "    <tr>\n",
       "      <th>3</th>\n",
       "      <td>NaN</td>\n",
       "      <td>W01090</td>\n",
       "      <td>766916</td>\n",
       "      <td>4/1/2016 0:09</td>\n",
       "      <td>17th &amp; Corcoran St NW</td>\n",
       "      <td>31214</td>\n",
       "      <td>Registered</td>\n",
       "      <td>3/31/2016 23:57</td>\n",
       "      <td>34th St &amp; Wisconsin Ave NW</td>\n",
       "      <td>31226</td>\n",
       "    </tr>\n",
       "    <tr>\n",
       "      <th>4</th>\n",
       "      <td>NaN</td>\n",
       "      <td>W21934</td>\n",
       "      <td>139656</td>\n",
       "      <td>3/31/2016 23:59</td>\n",
       "      <td>27th &amp; Crystal Dr</td>\n",
       "      <td>31009</td>\n",
       "      <td>Registered</td>\n",
       "      <td>3/31/2016 23:57</td>\n",
       "      <td>23rd &amp; Crystal Dr</td>\n",
       "      <td>31011</td>\n",
       "    </tr>\n",
       "  </tbody>\n",
       "</table>\n",
       "</div>"
      ],
      "text/plain": [
       "  Account type Bike number Duration (ms)         End date  \\\n",
       "0          NaN      W00022        301295    4/1/2016 0:04   \n",
       "1          NaN      W01294        557887    4/1/2016 0:08   \n",
       "2          NaN      W01416        555944    4/1/2016 0:08   \n",
       "3          NaN      W01090        766916    4/1/2016 0:09   \n",
       "4          NaN      W21934        139656  3/31/2016 23:59   \n",
       "\n",
       "                 End station End station number Member Type       Start date  \\\n",
       "0  1st & Rhode Island Ave NW              31506  Registered  3/31/2016 23:59   \n",
       "1   18th St & Wyoming Ave NW              31114  Registered  3/31/2016 23:59   \n",
       "2             18th & M St NW              31221  Registered  3/31/2016 23:59   \n",
       "3      17th & Corcoran St NW              31214  Registered  3/31/2016 23:57   \n",
       "4          27th & Crystal Dr              31009  Registered  3/31/2016 23:57   \n",
       "\n",
       "                    Start station Start station number  \n",
       "0                  11th & S St NW                31280  \n",
       "1  New Hampshire Ave & 24th St NW                31275  \n",
       "2                  14th & V St NW                31101  \n",
       "3      34th St & Wisconsin Ave NW                31226  \n",
       "4               23rd & Crystal Dr                31011  "
      ]
     },
     "execution_count": 6,
     "metadata": {},
     "output_type": "execute_result"
    }
   ],
   "source": [
    "bikes.head()"
   ]
  },
  {
   "cell_type": "code",
   "execution_count": 7,
   "metadata": {
    "collapsed": true
   },
   "outputs": [],
   "source": [
    "bikes['start'] = pd.to_datetime(bikes['Start date'], infer_datetime_format = True)\n",
    "bikes['end'] = pd.to_datetime(bikes['End date'], infer_datetime_format = True)"
   ]
  },
  {
   "cell_type": "code",
   "execution_count": 8,
   "metadata": {
    "collapsed": true
   },
   "outputs": [],
   "source": [
    "bikes['start_year']=bikes.start.dt.year\n",
    "bikes['end_year']=bikes.end.dt.year\n",
    "bikes['start_month']=bikes.start.dt.month\n",
    "bikes['end_month']=bikes.end.dt.month\n",
    "bikes['start_day']=bikes.start.dt.day\n",
    "bikes['end_day']=bikes.end.dt.day\n",
    "bikes['start_hour'] = bikes.start.dt.hour\n",
    "bikes['start_minute'] = bikes.start.dt.minute\n",
    "bikes['end_hour'] = bikes.end.dt.hour\n",
    "bikes['end_minute']=bikes.end.dt.minute\n",
    "bikes['start_weekday'] = bikes.start.dt.weekday\n",
    "bikes['end_weekday'] = bikes.end.dt.weekday\n",
    "bikes['trip_time']=(bikes['Duration (ms)']/60000).astype(float)"
   ]
  },
  {
   "cell_type": "code",
   "execution_count": 9,
   "metadata": {
    "collapsed": true
   },
   "outputs": [],
   "source": [
    "weekdays = {i:day for i,day in enumerate(['Monday','Tuesday', 'Wednesday', 'Thursday', 'Friday', 'Saturday', 'Sunday'])}"
   ]
  },
  {
   "cell_type": "code",
   "execution_count": 10,
   "metadata": {
    "collapsed": true
   },
   "outputs": [],
   "source": [
    "bikes['start_day_name']=bikes.start_weekday.apply(lambda x: weekdays[x])\n",
    "bikes['end_day_name']=bikes.end_weekday.apply(lambda x: weekdays[x])"
   ]
  },
  {
   "cell_type": "code",
   "execution_count": 11,
   "metadata": {},
   "outputs": [
    {
     "data": {
      "text/plain": [
       "<matplotlib.axes._subplots.AxesSubplot at 0x1036bca90>"
      ]
     },
     "execution_count": 11,
     "metadata": {},
     "output_type": "execute_result"
    },
    {
     "data": {
      "image/png": "[encoded data removed]",
      "text/plain": [
       "<matplotlib.figure.Figure at 0x10e1b5210>"
      ]
     },
     "metadata": {},
     "output_type": "display_data"
    }
   ],
   "source": [
    "## what's the most common weekday?\n",
    "bikes.start_day_name.value_counts().plot(kind='bar')"
   ]
  },
  {
   "cell_type": "code",
   "execution_count": 12,
   "metadata": {},
   "outputs": [
    {
     "data": {
      "text/plain": [
       "<matplotlib.axes._subplots.AxesSubplot at 0x10e2d7e50>"
      ]
     },
     "execution_count": 12,
     "metadata": {},
     "output_type": "execute_result"
    },
    {
     "data": {
      "image/png": "[encoded data removed]",
      "text/plain": [
       "<matplotlib.figure.Figure at 0x10e1b5110>"
      ]
     },
     "metadata": {},
     "output_type": "display_data"
    }
   ],
   "source": [
    "## What's the most common month?\n",
    "bikes.start_month.value_counts().plot(kind='bar')"
   ]
  },
  {
   "cell_type": "code",
   "execution_count": 13,
   "metadata": {},
   "outputs": [
    {
     "data": {
      "text/plain": [
       "<matplotlib.axes._subplots.AxesSubplot at 0x10eb66210>"
      ]
     },
     "execution_count": 13,
     "metadata": {},
     "output_type": "execute_result"
    },
    {
     "data": {
      "image/png": "[encoded data removed]",
      "text/plain": [
       "<matplotlib.figure.Figure at 0x10e2b2ed0>"
      ]
     },
     "metadata": {},
     "output_type": "display_data"
    }
   ],
   "source": [
    "## What's the most common hour?\n",
    "bikes.start_hour.value_counts().plot(kind='bar')"
   ]
  },
  {
   "cell_type": "code",
   "execution_count": 14,
   "metadata": {},
   "outputs": [
    {
     "data": {
      "text/plain": [
       "(array([ 467560.,  956446.,  670996.,  429254.,  278321.,  163640.,\n",
       "          77628.,   44564.,   31008.,   25521.,   21331.,   18270.,\n",
       "          15001.,   12469.,   11271.,   10294.,    9606.,    8538.,\n",
       "           7629.,    6785.]),\n",
       " array([  0,   5,  10,  15,  20,  25,  30,  35,  40,  45,  50,  55,  60,\n",
       "         65,  70,  75,  80,  85,  90,  95, 100]),\n",
       " <a list of 20 Patch objects>)"
      ]
     },
     "execution_count": 14,
     "metadata": {},
     "output_type": "execute_result"
    },
    {
     "data": {
      "image/png": "[encoded data removed]",
      "text/plain": [
       "<matplotlib.figure.Figure at 0x11982e290>"
      ]
     },
     "metadata": {},
     "output_type": "display_data"
    }
   ],
   "source": [
    "# Most of the trips are pretty short\n",
    "bins = [x for x in range(0,101,5)]\n",
    "plt.hist(bikes.trip_time, bins = bins)"
   ]
  },
  {
   "cell_type": "code",
   "execution_count": 15,
   "metadata": {},
   "outputs": [
    {
     "name": "stdout",
     "output_type": "stream",
     "text": [
      "2391454\n",
      "942332\n"
     ]
    },
    {
     "data": {
      "text/plain": [
       "Registered    2601521\n",
       "Casual         732265\n",
       "Name: Type, dtype: int64"
      ]
     },
     "execution_count": 15,
     "metadata": {},
     "output_type": "execute_result"
    }
   ],
   "source": [
    "print bikes['Account type'].isnull().sum()\n",
    "print bikes['Member Type'].isnull().sum()\n",
    "bikes['Type']=bikes['Member Type'].fillna(bikes['Account type'])\n",
    "bikes.Type.value_counts()"
   ]
  },
  {
   "cell_type": "code",
   "execution_count": 16,
   "metadata": {},
   "outputs": [
    {
     "data": {
      "text/plain": [
       "<matplotlib.axes._subplots.AxesSubplot at 0x10f2ff710>"
      ]
     },
     "execution_count": 16,
     "metadata": {},
     "output_type": "execute_result"
    },
    {
     "data": {
      "image/png": "[encoded data removed]",
      "text/plain": [
       "<matplotlib.figure.Figure at 0x10efe06d0>"
      ]
     },
     "metadata": {},
     "output_type": "display_data"
    }
   ],
   "source": [
    "bikes.groupby('start_day_name')['Type','trip_time'].mean().plot(kind='bar')"
   ]
  },
  {
   "cell_type": "code",
   "execution_count": 17,
   "metadata": {},
   "outputs": [
    {
     "data": {
      "text/plain": [
       "<matplotlib.axes._subplots.AxesSubplot at 0x10f565850>"
      ]
     },
     "execution_count": 17,
     "metadata": {},
     "output_type": "execute_result"
    },
    {
     "data": {
      "image/png": "[encoded data removed]",
      "text/plain": [
       "<matplotlib.figure.Figure at 0x10eb5c290>"
      ]
     },
     "metadata": {},
     "output_type": "display_data"
    }
   ],
   "source": [
    "bikes[bikes.Type=='Registered'].groupby('start_day_name').trip_time.mean().plot(kind='bar')"
   ]
  },
  {
   "cell_type": "code",
   "execution_count": 18,
   "metadata": {},
   "outputs": [
    {
     "data": {
      "text/plain": [
       "<matplotlib.axes._subplots.AxesSubplot at 0x10f7ab210>"
      ]
     },
     "execution_count": 18,
     "metadata": {},
     "output_type": "execute_result"
    },
    {
     "data": {
      "image/png": "[encoded data removed]",
      "text/plain": [
       "<matplotlib.figure.Figure at 0x10e30f790>"
      ]
     },
     "metadata": {},
     "output_type": "display_data"
    }
   ],
   "source": [
    "bikes[bikes.Type=='Casual'].groupby('start_day_name').trip_time.mean().plot(kind='bar', color='r')"
   ]
  },
  {
   "cell_type": "code",
   "execution_count": 19,
   "metadata": {},
   "outputs": [
    {
     "name": "stdout",
     "output_type": "stream",
     "text": [
      "Type\n",
      "Casual        42.303157\n",
      "Registered    12.660977\n",
      "Name: trip_time, dtype: float64\n",
      "Type\n",
      "Casual         732265\n",
      "Registered    2601521\n",
      "Name: trip_time, dtype: int64\n"
     ]
    }
   ],
   "source": [
    "print bikes.groupby('Type').trip_time.mean()\n",
    "print bikes.groupby('Type').trip_time.count()"
   ]
  },
  {
   "cell_type": "code",
   "execution_count": 20,
   "metadata": {
    "collapsed": true
   },
   "outputs": [],
   "source": [
    "dums=pd.get_dummies(bikes['End station number'])\n",
    "all_bikes= pd.concat([bikes, dums], axis=1)"
   ]
  },
  {
   "cell_type": "code",
   "execution_count": 22,
   "metadata": {},
   "outputs": [
    {
     "data": {
      "text/html": [
       "<div>\n",
       "<style>\n",
       "    .dataframe thead tr:only-child th {\n",
       "        text-align: right;\n",
       "    }\n",
       "\n",
       "    .dataframe thead th {\n",
       "        text-align: left;\n",
       "    }\n",
       "\n",
       "    .dataframe tbody tr th {\n",
       "        vertical-align: top;\n",
       "    }\n",
       "</style>\n",
       "<table border=\"1\" class=\"dataframe\">\n",
       "  <thead>\n",
       "    <tr style=\"text-align: right;\">\n",
       "      <th></th>\n",
       "      <th>31000</th>\n",
       "      <th>31001</th>\n",
       "      <th>31002</th>\n",
       "      <th>31003</th>\n",
       "      <th>31004</th>\n",
       "      <th>31005</th>\n",
       "      <th>31006</th>\n",
       "      <th>31007</th>\n",
       "      <th>31008</th>\n",
       "      <th>31009</th>\n",
       "      <th>...</th>\n",
       "      <th>32211</th>\n",
       "      <th>32212</th>\n",
       "      <th>32213</th>\n",
       "      <th>32214</th>\n",
       "      <th>32215</th>\n",
       "      <th>32216</th>\n",
       "      <th>32218</th>\n",
       "      <th>32219</th>\n",
       "      <th>32221</th>\n",
       "      <th>32222</th>\n",
       "    </tr>\n",
       "  </thead>\n",
       "  <tbody>\n",
       "    <tr>\n",
       "      <th>0</th>\n",
       "      <td>0</td>\n",
       "      <td>0</td>\n",
       "      <td>0</td>\n",
       "      <td>0</td>\n",
       "      <td>0</td>\n",
       "      <td>0</td>\n",
       "      <td>0</td>\n",
       "      <td>0</td>\n",
       "      <td>0</td>\n",
       "      <td>0</td>\n",
       "      <td>...</td>\n",
       "      <td>0</td>\n",
       "      <td>0</td>\n",
       "      <td>0</td>\n",
       "      <td>0</td>\n",
       "      <td>0</td>\n",
       "      <td>0</td>\n",
       "      <td>0</td>\n",
       "      <td>0</td>\n",
       "      <td>0</td>\n",
       "      <td>0</td>\n",
       "    </tr>\n",
       "    <tr>\n",
       "      <th>1</th>\n",
       "      <td>0</td>\n",
       "      <td>0</td>\n",
       "      <td>0</td>\n",
       "      <td>0</td>\n",
       "      <td>0</td>\n",
       "      <td>0</td>\n",
       "      <td>0</td>\n",
       "      <td>0</td>\n",
       "      <td>0</td>\n",
       "      <td>0</td>\n",
       "      <td>...</td>\n",
       "      <td>0</td>\n",
       "      <td>0</td>\n",
       "      <td>0</td>\n",
       "      <td>0</td>\n",
       "      <td>0</td>\n",
       "      <td>0</td>\n",
       "      <td>0</td>\n",
       "      <td>0</td>\n",
       "      <td>0</td>\n",
       "      <td>0</td>\n",
       "    </tr>\n",
       "    <tr>\n",
       "      <th>2</th>\n",
       "      <td>0</td>\n",
       "      <td>0</td>\n",
       "      <td>0</td>\n",
       "      <td>0</td>\n",
       "      <td>0</td>\n",
       "      <td>0</td>\n",
       "      <td>0</td>\n",
       "      <td>0</td>\n",
       "      <td>0</td>\n",
       "      <td>0</td>\n",
       "      <td>...</td>\n",
       "      <td>0</td>\n",
       "      <td>0</td>\n",
       "      <td>0</td>\n",
       "      <td>0</td>\n",
       "      <td>0</td>\n",
       "      <td>0</td>\n",
       "      <td>0</td>\n",
       "      <td>0</td>\n",
       "      <td>0</td>\n",
       "      <td>0</td>\n",
       "    </tr>\n",
       "    <tr>\n",
       "      <th>3</th>\n",
       "      <td>0</td>\n",
       "      <td>0</td>\n",
       "      <td>0</td>\n",
       "      <td>0</td>\n",
       "      <td>0</td>\n",
       "      <td>0</td>\n",
       "      <td>0</td>\n",
       "      <td>0</td>\n",
       "      <td>0</td>\n",
       "      <td>0</td>\n",
       "      <td>...</td>\n",
       "      <td>0</td>\n",
       "      <td>0</td>\n",
       "      <td>0</td>\n",
       "      <td>0</td>\n",
       "      <td>0</td>\n",
       "      <td>0</td>\n",
       "      <td>0</td>\n",
       "      <td>0</td>\n",
       "      <td>0</td>\n",
       "      <td>0</td>\n",
       "    </tr>\n",
       "    <tr>\n",
       "      <th>4</th>\n",
       "      <td>0</td>\n",
       "      <td>0</td>\n",
       "      <td>0</td>\n",
       "      <td>0</td>\n",
       "      <td>0</td>\n",
       "      <td>0</td>\n",
       "      <td>0</td>\n",
       "      <td>0</td>\n",
       "      <td>0</td>\n",
       "      <td>1</td>\n",
       "      <td>...</td>\n",
       "      <td>0</td>\n",
       "      <td>0</td>\n",
       "      <td>0</td>\n",
       "      <td>0</td>\n",
       "      <td>0</td>\n",
       "      <td>0</td>\n",
       "      <td>0</td>\n",
       "      <td>0</td>\n",
       "      <td>0</td>\n",
       "      <td>0</td>\n",
       "    </tr>\n",
       "  </tbody>\n",
       "</table>\n",
       "<p>5 rows × 435 columns</p>\n",
       "</div>"
      ],
      "text/plain": [
       "   31000  31001  31002  31003  31004  31005  31006  31007  31008  31009  \\\n",
       "0      0      0      0      0      0      0      0      0      0      0   \n",
       "1      0      0      0      0      0      0      0      0      0      0   \n",
       "2      0      0      0      0      0      0      0      0      0      0   \n",
       "3      0      0      0      0      0      0      0      0      0      0   \n",
       "4      0      0      0      0      0      0      0      0      0      1   \n",
       "\n",
       "   ...    32211  32212  32213  32214  32215  32216  32218  32219  32221  32222  \n",
       "0  ...        0      0      0      0      0      0      0      0      0      0  \n",
       "1  ...        0      0      0      0      0      0      0      0      0      0  \n",
       "2  ...        0      0      0      0      0      0      0      0      0      0  \n",
       "3  ...        0      0      0      0      0      0      0      0      0      0  \n",
       "4  ...        0      0      0      0      0      0      0      0      0      0  \n",
       "\n",
       "[5 rows x 435 columns]"
      ]
     },
     "execution_count": 22,
     "metadata": {},
     "output_type": "execute_result"
    }
   ],
   "source": [
    "all_bikes.iloc[:5,28:]"
   ]
  },
  {
   "cell_type": "code",
   "execution_count": 24,
   "metadata": {},
   "outputs": [],
   "source": [
    "racks = all_bikes['Start station number'].unique()\n",
    "#bikes.iloc[:5,[22,26:]]"
   ]
  },
  {
   "cell_type": "code",
   "execution_count": null,
   "metadata": {
    "collapsed": true
   },
   "outputs": [],
   "source": [
    "# making a dataframe of eac"
   ]
  },
  {
   "cell_type": "markdown",
   "metadata": {},
   "source": [
    "## This section below is for getting station data and other system data"
   ]
  },
  {
   "cell_type": "code",
   "execution_count": null,
   "metadata": {
    "collapsed": true
   },
   "outputs": [],
   "source": []
  },
  {
   "cell_type": "code",
   "execution_count": null,
   "metadata": {
    "collapsed": true
   },
   "outputs": [],
   "source": [
    "url = 'https://gbfs.capitalbikeshare.com/gbfs/en/station_information.json'\n",
    "r = requests.get(url)"
   ]
  },
  {
   "cell_type": "code",
   "execution_count": null,
   "metadata": {
    "collapsed": true,
    "scrolled": true
   },
   "outputs": [],
   "source": [
    "r.json().keys()"
   ]
  },
  {
   "cell_type": "code",
   "execution_count": null,
   "metadata": {
    "collapsed": true
   },
   "outputs": [],
   "source": [
    "results = r.json()['data']"
   ]
  },
  {
   "cell_type": "code",
   "execution_count": null,
   "metadata": {
    "collapsed": true
   },
   "outputs": [],
   "source": [
    "results['stations']"
   ]
  },
  {
   "cell_type": "code",
   "execution_count": null,
   "metadata": {
    "collapsed": true
   },
   "outputs": [],
   "source": []
  }
 ],
 "metadata": {
  "kernelspec": {
   "display_name": "Python 2",
   "language": "python",
   "name": "python2"
  },
  "language_info": {
   "codemirror_mode": {
    "name": "ipython",
    "version": 2
   },
   "file_extension": ".py",
   "mimetype": "text/x-python",
   "name": "python",
   "nbconvert_exporter": "python",
   "pygments_lexer": "ipython2",
   "version": "2.7.13"
  }
 },
 "nbformat": 4,
 "nbformat_minor": 2
}
